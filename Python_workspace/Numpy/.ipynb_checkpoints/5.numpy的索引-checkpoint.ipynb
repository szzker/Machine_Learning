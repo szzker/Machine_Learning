{
 "cells": [
  {
   "cell_type": "code",
   "execution_count": 2,
   "id": "65554397",
   "metadata": {
    "ExecuteTime": {
     "end_time": "2021-09-09T08:08:52.823647Z",
     "start_time": "2021-09-09T08:08:52.806643Z"
    }
   },
   "outputs": [],
   "source": [
    "import numpy as np"
   ]
  },
  {
   "cell_type": "code",
   "execution_count": 3,
   "id": "d3bc1bb8",
   "metadata": {
    "ExecuteTime": {
     "end_time": "2021-09-09T08:15:32.966421Z",
     "start_time": "2021-09-09T08:15:32.948431Z"
    }
   },
   "outputs": [
    {
     "name": "stdout",
     "output_type": "stream",
     "text": [
      "[ 2  3  4  5  6  7  8  9 10 11 12 13]\n"
     ]
    }
   ],
   "source": [
    "arr_1 = np.arange(2, 14)  #创建一个2到13的数组\n",
    "print(arr_1)"
   ]
  },
  {
   "cell_type": "code",
   "execution_count": 4,
   "id": "8b04f6a9",
   "metadata": {
    "ExecuteTime": {
     "end_time": "2021-09-09T08:10:23.597149Z",
     "start_time": "2021-09-09T08:10:23.584158Z"
    }
   },
   "outputs": [
    {
     "name": "stdout",
     "output_type": "stream",
     "text": [
      "4\n"
     ]
    }
   ],
   "source": [
    "print(arr_1[2])"
   ]
  },
  {
   "cell_type": "code",
   "execution_count": 5,
   "id": "0fd24bbc",
   "metadata": {
    "ExecuteTime": {
     "end_time": "2021-09-09T08:11:12.900753Z",
     "start_time": "2021-09-09T08:11:12.896769Z"
    }
   },
   "outputs": [
    {
     "name": "stdout",
     "output_type": "stream",
     "text": [
      "[3 4 5]\n"
     ]
    }
   ],
   "source": [
    "print(arr_1[1:4])  #切片   减1原则"
   ]
  },
  {
   "cell_type": "code",
   "execution_count": 6,
   "id": "d9d7e3d9",
   "metadata": {
    "ExecuteTime": {
     "end_time": "2021-09-09T08:13:18.649711Z",
     "start_time": "2021-09-09T08:13:18.638714Z"
    }
   },
   "outputs": [
    {
     "name": "stdout",
     "output_type": "stream",
     "text": [
      "[ 3  4  5  6  7  8  9 10 11 12]\n"
     ]
    }
   ],
   "source": [
    "print(arr_1[1:-1])"
   ]
  },
  {
   "cell_type": "code",
   "execution_count": 7,
   "id": "b56550ea",
   "metadata": {
    "ExecuteTime": {
     "end_time": "2021-09-09T08:14:14.873200Z",
     "start_time": "2021-09-09T08:14:14.862209Z"
    }
   },
   "outputs": [
    {
     "name": "stdout",
     "output_type": "stream",
     "text": [
      "[ 2  3  4  5  6  7  8  9 10 11 12]\n"
     ]
    }
   ],
   "source": [
    "print(arr_1[:-1])"
   ]
  },
  {
   "cell_type": "code",
   "execution_count": 4,
   "id": "c68a70ca",
   "metadata": {
    "ExecuteTime": {
     "end_time": "2021-09-09T08:15:37.028213Z",
     "start_time": "2021-09-09T08:15:37.019218Z"
    }
   },
   "outputs": [
    {
     "name": "stdout",
     "output_type": "stream",
     "text": [
      "[ 3  4  5  6  7  8  9 10 11 12 13]\n"
     ]
    }
   ],
   "source": [
    "print(arr_1[1:])"
   ]
  },
  {
   "cell_type": "code",
   "execution_count": 5,
   "id": "b47a28f4",
   "metadata": {
    "ExecuteTime": {
     "end_time": "2021-09-09T08:16:03.437931Z",
     "start_time": "2021-09-09T08:16:03.424885Z"
    }
   },
   "outputs": [
    {
     "name": "stdout",
     "output_type": "stream",
     "text": [
      "[11 12 13]\n"
     ]
    }
   ],
   "source": [
    "print(arr_1[-3:])"
   ]
  },
  {
   "cell_type": "code",
   "execution_count": 10,
   "id": "5e83bf70",
   "metadata": {
    "ExecuteTime": {
     "end_time": "2021-09-09T08:19:52.826600Z",
     "start_time": "2021-09-09T08:19:52.817610Z"
    }
   },
   "outputs": [
    {
     "name": "stdout",
     "output_type": "stream",
     "text": [
      "[[ 2  3  4  5]\n",
      " [ 6  7  8  9]\n",
      " [10 11 12 13]]\n",
      "[ 2  3  4  5  6  7  8  9 10 11 12 13]\n"
     ]
    }
   ],
   "source": [
    "arr_2 = arr_1.reshape(3,4)#reshape()函数有返回值\n",
    "print(arr_2)\n",
    "print(arr_1)"
   ]
  },
  {
   "cell_type": "code",
   "execution_count": 11,
   "id": "abffc7fc",
   "metadata": {
    "ExecuteTime": {
     "end_time": "2021-09-09T08:20:27.313239Z",
     "start_time": "2021-09-09T08:20:27.298261Z"
    }
   },
   "outputs": [
    {
     "name": "stdout",
     "output_type": "stream",
     "text": [
      "[2 3 4 5]\n"
     ]
    }
   ],
   "source": [
    "print(arr_2[0])"
   ]
  },
  {
   "cell_type": "code",
   "execution_count": 12,
   "id": "48044a41",
   "metadata": {
    "ExecuteTime": {
     "end_time": "2021-09-09T08:20:52.965392Z",
     "start_time": "2021-09-09T08:20:52.953400Z"
    }
   },
   "outputs": [
    {
     "name": "stdout",
     "output_type": "stream",
     "text": [
      "2\n"
     ]
    }
   ],
   "source": [
    "print(arr_2[0][0])#确定位置的数据"
   ]
  },
  {
   "cell_type": "code",
   "execution_count": null,
   "id": "2d73c794",
   "metadata": {},
   "outputs": [],
   "source": []
  },
  {
   "cell_type": "code",
   "execution_count": null,
   "id": "22f62740",
   "metadata": {},
   "outputs": [],
   "source": []
  }
 ],
 "metadata": {
  "kernelspec": {
   "display_name": "Python 3",
   "language": "python",
   "name": "python3"
  },
  "toc": {
   "base_numbering": 1,
   "nav_menu": {},
   "number_sections": true,
   "sideBar": true,
   "skip_h1_title": false,
   "title_cell": "Table of Contents",
   "title_sidebar": "Contents",
   "toc_cell": false,
   "toc_position": {},
   "toc_section_display": true,
   "toc_window_display": false
  },
  "varInspector": {
   "cols": {
    "lenName": 16,
    "lenType": 16,
    "lenVar": 40
   },
   "kernels_config": {
    "python": {
     "delete_cmd_postfix": "",
     "delete_cmd_prefix": "del ",
     "library": "var_list.py",
     "varRefreshCmd": "print(var_dic_list())"
    },
    "r": {
     "delete_cmd_postfix": ") ",
     "delete_cmd_prefix": "rm(",
     "library": "var_list.r",
     "varRefreshCmd": "cat(var_dic_list()) "
    }
   },
   "types_to_exclude": [
    "module",
    "function",
    "builtin_function_or_method",
    "instance",
    "_Feature"
   ],
   "window_display": false
  }
 },
 "nbformat": 4,
 "nbformat_minor": 5
}
