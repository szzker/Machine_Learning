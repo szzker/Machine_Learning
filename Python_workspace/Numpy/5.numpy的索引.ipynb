{
 "cells": [
  {
   "cell_type": "code",
   "execution_count": 2,
   "id": "77e07554",
   "metadata": {
    "ExecuteTime": {
     "end_time": "2021-09-09T08:08:52.823647Z",
     "start_time": "2021-09-09T08:08:52.806643Z"
    }
   },
   "outputs": [],
   "source": [
    "import numpy as np"
   ]
  },
  {
   "cell_type": "code",
   "execution_count": 3,
   "id": "00a8d590",
   "metadata": {
    "ExecuteTime": {
     "end_time": "2021-09-09T08:15:32.966421Z",
     "start_time": "2021-09-09T08:15:32.948431Z"
    }
   },
   "outputs": [
    {
     "name": "stdout",
     "output_type": "stream",
     "text": [
      "[ 2  3  4  5  6  7  8  9 10 11 12 13]\n"
     ]
    }
   ],
   "source": [
    "arr_1 = np.arange(2, 14)  #创建一个2到13的数组\n",
    "print(arr_1)"
   ]
  },
  {
   "cell_type": "code",
   "execution_count": 4,
   "id": "1615e888",
   "metadata": {
    "ExecuteTime": {
     "end_time": "2021-09-09T08:10:23.597149Z",
     "start_time": "2021-09-09T08:10:23.584158Z"
    }
   },
   "outputs": [
    {
     "name": "stdout",
     "output_type": "stream",
     "text": [
      "4\n"
     ]
    }
   ],
   "source": [
    "print(arr_1[2])"
   ]
  },
  {
   "cell_type": "code",
   "execution_count": 5,
   "id": "c92e3301",
   "metadata": {
    "ExecuteTime": {
     "end_time": "2021-09-09T08:11:12.900753Z",
     "start_time": "2021-09-09T08:11:12.896769Z"
    }
   },
   "outputs": [
    {
     "name": "stdout",
     "output_type": "stream",
     "text": [
      "[3 4 5]\n"
     ]
    }
   ],
   "source": [
    "print(arr_1[1:4])  #切片   减1原则"
   ]
  },
  {
   "cell_type": "code",
   "execution_count": 6,
   "id": "e99bb0fc",
   "metadata": {
    "ExecuteTime": {
     "end_time": "2021-09-09T08:13:18.649711Z",
     "start_time": "2021-09-09T08:13:18.638714Z"
    }
   },
   "outputs": [
    {
     "name": "stdout",
     "output_type": "stream",
     "text": [
      "[ 3  4  5  6  7  8  9 10 11 12]\n"
     ]
    }
   ],
   "source": [
    "print(arr_1[1:-1])"
   ]
  },
  {
   "cell_type": "code",
   "execution_count": 7,
   "id": "e4fc86df",
   "metadata": {
    "ExecuteTime": {
     "end_time": "2021-09-09T08:14:14.873200Z",
     "start_time": "2021-09-09T08:14:14.862209Z"
    }
   },
   "outputs": [
    {
     "name": "stdout",
     "output_type": "stream",
     "text": [
      "[ 2  3  4  5  6  7  8  9 10 11 12]\n"
     ]
    }
   ],
   "source": [
    "print(arr_1[:-1])"
   ]
  },
  {
   "cell_type": "code",
   "execution_count": 4,
   "id": "24efe391",
   "metadata": {
    "ExecuteTime": {
     "end_time": "2021-09-09T08:15:37.028213Z",
     "start_time": "2021-09-09T08:15:37.019218Z"
    }
   },
   "outputs": [
    {
     "name": "stdout",
     "output_type": "stream",
     "text": [
      "[ 3  4  5  6  7  8  9 10 11 12 13]\n"
     ]
    }
   ],
   "source": [
    "print(arr_1[1:])"
   ]
  },
  {
   "cell_type": "code",
   "execution_count": 5,
   "id": "19c4c749",
   "metadata": {
    "ExecuteTime": {
     "end_time": "2021-09-09T08:16:03.437931Z",
     "start_time": "2021-09-09T08:16:03.424885Z"
    }
   },
   "outputs": [
    {
     "name": "stdout",
     "output_type": "stream",
     "text": [
      "[11 12 13]\n"
     ]
    }
   ],
   "source": [
    "print(arr_1[-3:])"
   ]
  },
  {
   "cell_type": "code",
   "execution_count": 10,
   "id": "67a1ef66",
   "metadata": {
    "ExecuteTime": {
     "end_time": "2021-09-09T08:19:52.826600Z",
     "start_time": "2021-09-09T08:19:52.817610Z"
    }
   },
   "outputs": [
    {
     "name": "stdout",
     "output_type": "stream",
     "text": [
      "[[ 2  3  4  5]\n",
      " [ 6  7  8  9]\n",
      " [10 11 12 13]]\n",
      "[ 2  3  4  5  6  7  8  9 10 11 12 13]\n"
     ]
    }
   ],
   "source": [
    "arr_2 = arr_1.reshape(3,4)#reshape()函数有返回值\n",
    "print(arr_2)\n",
    "print(arr_1)"
   ]
  },
  {
   "cell_type": "code",
   "execution_count": 11,
   "id": "d23e3c9c",
   "metadata": {
    "ExecuteTime": {
     "end_time": "2021-09-09T08:20:27.313239Z",
     "start_time": "2021-09-09T08:20:27.298261Z"
    }
   },
   "outputs": [
    {
     "name": "stdout",
     "output_type": "stream",
     "text": [
      "[2 3 4 5]\n"
     ]
    }
   ],
   "source": [
    "print(arr_2[0])"
   ]
  },
  {
   "cell_type": "code",
   "execution_count": 13,
   "id": "09ff2e7c",
   "metadata": {
    "ExecuteTime": {
     "end_time": "2021-09-09T08:21:13.622719Z",
     "start_time": "2021-09-09T08:21:13.611735Z"
    }
   },
   "outputs": [
    {
     "name": "stdout",
     "output_type": "stream",
     "text": [
      "2\n"
     ]
    }
   ],
   "source": [
    "print(arr_2[0][0])#确定位置的数据"
   ]
  },
  {
   "cell_type": "code",
   "execution_count": 15,
   "id": "ddddf9ca",
   "metadata": {
    "ExecuteTime": {
     "end_time": "2021-09-09T08:26:04.464110Z",
     "start_time": "2021-09-09T08:26:04.452132Z"
    }
   },
   "outputs": [
    {
     "name": "stdout",
     "output_type": "stream",
     "text": [
      "2\n"
     ]
    }
   ],
   "source": [
    "print(arr_2[0,0])"
   ]
  },
  {
   "cell_type": "code",
   "execution_count": 17,
   "id": "9d8bea95",
   "metadata": {
    "ExecuteTime": {
     "end_time": "2021-09-09T08:29:56.263945Z",
     "start_time": "2021-09-09T08:29:56.250952Z"
    }
   },
   "outputs": [
    {
     "name": "stdout",
     "output_type": "stream",
     "text": [
      "[ 4  8 12]\n"
     ]
    }
   ],
   "source": [
    "print(arr_2[:,2])  #所有行的第2列"
   ]
  },
  {
   "cell_type": "code",
   "execution_count": 18,
   "id": "4055cefd",
   "metadata": {
    "ExecuteTime": {
     "end_time": "2021-09-09T08:31:42.054113Z",
     "start_time": "2021-09-09T08:31:42.037122Z"
    }
   },
   "outputs": [
    {
     "name": "stdout",
     "output_type": "stream",
     "text": [
      "[2 3 4 5]\n",
      "[6 7 8 9]\n",
      "[10 11 12 13]\n"
     ]
    }
   ],
   "source": [
    "for i in arr_2:  #迭代的是arr_2数组中的行\n",
    "    print(i)"
   ]
  },
  {
   "cell_type": "code",
   "execution_count": 19,
   "id": "be66c769",
   "metadata": {
    "ExecuteTime": {
     "end_time": "2021-09-09T08:33:03.282263Z",
     "start_time": "2021-09-09T08:33:03.268280Z"
    }
   },
   "outputs": [
    {
     "name": "stdout",
     "output_type": "stream",
     "text": [
      "[ 2  6 10]\n",
      "[ 3  7 11]\n",
      "[ 4  8 12]\n",
      "[ 5  9 13]\n"
     ]
    }
   ],
   "source": [
    "for i in arr_2.T:\n",
    "    print(i)"
   ]
  },
  {
   "cell_type": "markdown",
   "id": "4f427d7e",
   "metadata": {},
   "source": [
    "# 使用.flat进行扁平化，迭代的是数组中的元素"
   ]
  },
  {
   "cell_type": "code",
   "execution_count": 22,
   "id": "0bf20d53",
   "metadata": {
    "ExecuteTime": {
     "end_time": "2021-09-09T08:35:03.795916Z",
     "start_time": "2021-09-09T08:35:03.778944Z"
    }
   },
   "outputs": [
    {
     "name": "stdout",
     "output_type": "stream",
     "text": [
      "2\n",
      "3\n",
      "4\n",
      "5\n",
      "6\n",
      "7\n",
      "8\n",
      "9\n",
      "10\n",
      "11\n",
      "12\n",
      "13\n"
     ]
    }
   ],
   "source": [
    "for i in arr_2.flat:  #扁平化 迭代的是arr_2的元素\n",
    "    print(i)"
   ]
  },
  {
   "cell_type": "code",
   "execution_count": null,
   "id": "2b39fa3c",
   "metadata": {},
   "outputs": [],
   "source": []
  },
  {
   "cell_type": "code",
   "execution_count": null,
   "id": "1bc39780",
   "metadata": {},
   "outputs": [],
   "source": []
  },
  {
   "cell_type": "code",
   "execution_count": null,
   "id": "461f712e",
   "metadata": {},
   "outputs": [],
   "source": []
  }
 ],
 "metadata": {
  "kernelspec": {
   "display_name": "Python 3",
   "language": "python",
   "name": "python3"
  },
  "toc": {
   "base_numbering": 1,
   "nav_menu": {},
   "number_sections": true,
   "sideBar": true,
   "skip_h1_title": false,
   "title_cell": "Table of Contents",
   "title_sidebar": "Contents",
   "toc_cell": false,
   "toc_position": {},
   "toc_section_display": true,
   "toc_window_display": false
  },
  "varInspector": {
   "cols": {
    "lenName": 16,
    "lenType": 16,
    "lenVar": 40
   },
   "kernels_config": {
    "python": {
     "delete_cmd_postfix": "",
     "delete_cmd_prefix": "del ",
     "library": "var_list.py",
     "varRefreshCmd": "print(var_dic_list())"
    },
    "r": {
     "delete_cmd_postfix": ") ",
     "delete_cmd_prefix": "rm(",
     "library": "var_list.r",
     "varRefreshCmd": "cat(var_dic_list()) "
    }
   },
   "types_to_exclude": [
    "module",
    "function",
    "builtin_function_or_method",
    "instance",
    "_Feature"
   ],
   "window_display": false
  }
 },
 "nbformat": 4,
 "nbformat_minor": 5
}
