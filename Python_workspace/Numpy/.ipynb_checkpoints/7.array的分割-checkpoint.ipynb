{
 "cells": [
  {
   "cell_type": "code",
   "execution_count": 2,
   "id": "e88c73e7",
   "metadata": {
    "ExecuteTime": {
     "end_time": "2021-09-09T09:45:31.445063Z",
     "start_time": "2021-09-09T09:45:31.439052Z"
    }
   },
   "outputs": [],
   "source": [
    "import numpy as np"
   ]
  },
  {
   "cell_type": "code",
   "execution_count": 9,
   "id": "e2c753ba",
   "metadata": {
    "ExecuteTime": {
     "end_time": "2021-09-09T09:47:13.316003Z",
     "start_time": "2021-09-09T09:47:13.309007Z"
    }
   },
   "outputs": [
    {
     "name": "stdout",
     "output_type": "stream",
     "text": [
      "[[ 0  1  2  3]\n",
      " [ 4  5  6  7]\n",
      " [ 8  9 10 11]]\n"
     ]
    }
   ],
   "source": [
    "arr_1 = np.arange(0,12).reshape((3,4))  #arr_1 = np.arange(12).reshape((3,4))\n",
    "print(arr_1)"
   ]
  },
  {
   "cell_type": "code",
   "execution_count": 16,
   "id": "560263c8",
   "metadata": {
    "ExecuteTime": {
     "end_time": "2021-09-09T10:45:24.420375Z",
     "start_time": "2021-09-09T10:45:24.402383Z"
    }
   },
   "outputs": [
    {
     "name": "stdout",
     "output_type": "stream",
     "text": [
      "[[0 1]\n",
      " [4 5]\n",
      " [8 9]]\n",
      "[[ 2  3]\n",
      " [ 6  7]\n",
      " [10 11]]\n"
     ]
    }
   ],
   "source": [
    "arr_2,arr_3 = np.split(arr_1,2,axis=1)  #水平方向看,将arr_1分成2份  axis默认为 0，横向切分，即水平方向。为 1 时，纵向切分，即竖直方向。\n",
    "print(arr_2)\n",
    "print(arr_3)"
   ]
  },
  {
   "cell_type": "code",
   "execution_count": 17,
   "id": "e470ca39",
   "metadata": {
    "ExecuteTime": {
     "end_time": "2021-09-09T10:49:16.503925Z",
     "start_time": "2021-09-09T10:49:16.495945Z"
    }
   },
   "outputs": [
    {
     "name": "stdout",
     "output_type": "stream",
     "text": [
      "[[0 1 2 3]]\n",
      "[[4 5 6 7]]\n",
      "[[ 8  9 10 11]]\n"
     ]
    }
   ],
   "source": [
    "arr_4,arr_5,arr_6 = np.split(arr_1,3,axis=0)\n",
    "print(arr_4)\n",
    "print(arr_5)\n",
    "print(arr_6)"
   ]
  },
  {
   "cell_type": "markdown",
   "id": "24f8f556",
   "metadata": {},
   "source": [
    "# 不能直接split()分成不等分，array_split()分成不等分"
   ]
  },
  {
   "cell_type": "code",
   "execution_count": 21,
   "id": "760550bb",
   "metadata": {
    "ExecuteTime": {
     "end_time": "2021-09-09T11:00:57.853462Z",
     "start_time": "2021-09-09T11:00:57.838460Z"
    }
   },
   "outputs": [
    {
     "name": "stdout",
     "output_type": "stream",
     "text": [
      "[[0 1]\n",
      " [4 5]\n",
      " [8 9]]\n",
      "[[ 2]\n",
      " [ 6]\n",
      " [10]]\n",
      "[[ 3]\n",
      " [ 7]\n",
      " [11]]\n"
     ]
    }
   ],
   "source": [
    "arr_7,arr_8,arr_9 = np.array_split(arr_1,3,axis = 1)#横向看，分成不等份的3份\n",
    "print(arr_7)\n",
    "print(arr_8)\n",
    "print(arr_9)"
   ]
  },
  {
   "cell_type": "code",
   "execution_count": 24,
   "id": "5b2f8bc5",
   "metadata": {
    "ExecuteTime": {
     "end_time": "2021-09-09T11:01:43.571862Z",
     "start_time": "2021-09-09T11:01:43.560867Z"
    }
   },
   "outputs": [
    {
     "name": "stdout",
     "output_type": "stream",
     "text": [
      "[[0 1 2 3]]\n",
      "[[4 5 6 7]]\n",
      "[[ 8  9 10 11]]\n"
     ]
    }
   ],
   "source": [
    "arr_v1,arr_v2,arr_v3 = np.vsplit(arr_1,3)  #v表示垂直方向 纵向看\n",
    "print(arr_v1)\n",
    "print(arr_v2)\n",
    "print(arr_v3)"
   ]
  },
  {
   "cell_type": "code",
   "execution_count": 25,
   "id": "675ce1c9",
   "metadata": {
    "ExecuteTime": {
     "end_time": "2021-09-09T11:05:52.919680Z",
     "start_time": "2021-09-09T11:05:52.904703Z"
    }
   },
   "outputs": [
    {
     "name": "stdout",
     "output_type": "stream",
     "text": [
      "[[0 1]\n",
      " [4 5]\n",
      " [8 9]]\n",
      "[[ 2  3]\n",
      " [ 6  7]\n",
      " [10 11]]\n"
     ]
    }
   ],
   "source": [
    "arr_h1,arr_h2 = np.hsplit(arr_1,2)  #h表示横向看 对应合并部分 vstack()纵向合并 hstack()横向合并\n",
    "print(arr_h1)\n",
    "print(arr_h2)"
   ]
  },
  {
   "cell_type": "code",
   "execution_count": null,
   "id": "98c6cc10",
   "metadata": {},
   "outputs": [],
   "source": []
  },
  {
   "cell_type": "code",
   "execution_count": null,
   "id": "238f099b",
   "metadata": {},
   "outputs": [],
   "source": []
  },
  {
   "cell_type": "code",
   "execution_count": null,
   "id": "4dbdee0c",
   "metadata": {},
   "outputs": [],
   "source": []
  },
  {
   "cell_type": "code",
   "execution_count": null,
   "id": "47b8140e",
   "metadata": {},
   "outputs": [],
   "source": []
  },
  {
   "cell_type": "code",
   "execution_count": null,
   "id": "364032f2",
   "metadata": {},
   "outputs": [],
   "source": []
  },
  {
   "cell_type": "code",
   "execution_count": null,
   "id": "a6ed30ae",
   "metadata": {},
   "outputs": [],
   "source": []
  }
 ],
 "metadata": {
  "kernelspec": {
   "display_name": "Python 3",
   "language": "python",
   "name": "python3"
  },
  "language_info": {
   "codemirror_mode": {
    "name": "ipython",
    "version": 3
   },
   "file_extension": ".py",
   "mimetype": "text/x-python",
   "name": "python",
   "nbconvert_exporter": "python",
   "pygments_lexer": "ipython3",
   "version": "3.8.8"
  },
  "toc": {
   "base_numbering": 1,
   "nav_menu": {},
   "number_sections": true,
   "sideBar": true,
   "skip_h1_title": false,
   "title_cell": "Table of Contents",
   "title_sidebar": "Contents",
   "toc_cell": false,
   "toc_position": {},
   "toc_section_display": true,
   "toc_window_display": false
  },
  "varInspector": {
   "cols": {
    "lenName": 16,
    "lenType": 16,
    "lenVar": 40
   },
   "kernels_config": {
    "python": {
     "delete_cmd_postfix": "",
     "delete_cmd_prefix": "del ",
     "library": "var_list.py",
     "varRefreshCmd": "print(var_dic_list())"
    },
    "r": {
     "delete_cmd_postfix": ") ",
     "delete_cmd_prefix": "rm(",
     "library": "var_list.r",
     "varRefreshCmd": "cat(var_dic_list()) "
    }
   },
   "types_to_exclude": [
    "module",
    "function",
    "builtin_function_or_method",
    "instance",
    "_Feature"
   ],
   "window_display": false
  }
 },
 "nbformat": 4,
 "nbformat_minor": 5
}
