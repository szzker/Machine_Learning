{
 "cells": [
  {
   "cell_type": "code",
   "execution_count": 1,
   "id": "ccd91cbd",
   "metadata": {
    "ExecuteTime": {
     "end_time": "2021-09-08T12:03:16.354053Z",
     "start_time": "2021-09-08T12:03:16.345059Z"
    }
   },
   "outputs": [],
   "source": [
    "import numpy as np"
   ]
  },
  {
   "cell_type": "markdown",
   "id": "49b70509",
   "metadata": {},
   "source": [
    "# 一维和二维数组的建立"
   ]
  },
  {
   "cell_type": "code",
   "execution_count": 22,
   "id": "af86c59a",
   "metadata": {
    "ExecuteTime": {
     "end_time": "2021-09-08T12:20:08.273714Z",
     "start_time": "2021-09-08T12:20:08.260732Z"
    }
   },
   "outputs": [
    {
     "name": "stdout",
     "output_type": "stream",
     "text": [
      "[[1 2 3]\n",
      " [4 5 6]]\n",
      "[[1 1 2]\n",
      " [2 3 3]]\n",
      "[1 2 3 4]\n"
     ]
    }
   ],
   "source": [
    "arr_1 = np.array([[1,2,3],  #二维的 [ [ ],[ ] ]\n",
    "                  [4,5,6]])\n",
    "arr_2 = np.array([[1,1,2],\n",
    "                  [2,3,3]])\n",
    "print(arr_1)\n",
    "print(arr_2)\n",
    "arr_0 = np.array([1,2,3])  #一维的 [ ]\n",
    "print(arr_0)"
   ]
  },
  {
   "cell_type": "code",
   "execution_count": 8,
   "id": "218be9e0",
   "metadata": {
    "ExecuteTime": {
     "end_time": "2021-09-08T12:09:05.783032Z",
     "start_time": "2021-09-08T12:09:05.771039Z"
    }
   },
   "outputs": [
    {
     "name": "stdout",
     "output_type": "stream",
     "text": [
      "[[2 3 5]\n",
      " [6 8 9]]\n"
     ]
    }
   ],
   "source": [
    "print(arr_1+arr_2)  #数组的加法是按位加法"
   ]
  },
  {
   "cell_type": "code",
   "execution_count": 10,
   "id": "5a474114",
   "metadata": {
    "ExecuteTime": {
     "end_time": "2021-09-08T12:09:46.681204Z",
     "start_time": "2021-09-08T12:09:46.665175Z"
    }
   },
   "outputs": [
    {
     "name": "stdout",
     "output_type": "stream",
     "text": [
      "[[0 1 1]\n",
      " [2 2 3]]\n"
     ]
    }
   ],
   "source": [
    "print(arr_1-arr_2)  #数组的减法是按位的减法"
   ]
  },
  {
   "cell_type": "code",
   "execution_count": 41,
   "id": "462ae36b",
   "metadata": {
    "ExecuteTime": {
     "end_time": "2021-09-08T12:40:37.669543Z",
     "start_time": "2021-09-08T12:40:37.659562Z"
    }
   },
   "outputs": [
    {
     "name": "stdout",
     "output_type": "stream",
     "text": [
      "[[ 1  2  6]\n",
      " [ 8 15 18]]\n"
     ]
    }
   ],
   "source": [
    "print(arr_1 * arr_2)  #按位乘法 点乘"
   ]
  },
  {
   "cell_type": "code",
   "execution_count": 14,
   "id": "e78f3040",
   "metadata": {
    "ExecuteTime": {
     "end_time": "2021-09-08T12:14:49.347313Z",
     "start_time": "2021-09-08T12:14:49.340318Z"
    }
   },
   "outputs": [
    {
     "name": "stdout",
     "output_type": "stream",
     "text": [
      "[[1 2 3]\n",
      " [4 5 6]]\n",
      "[[1 1 2]\n",
      " [2 3 3]]\n",
      "\n",
      "\n",
      "[[  1   2   9]\n",
      " [ 16 125 216]]\n"
     ]
    }
   ],
   "source": [
    "print(arr_1)\n",
    "print(arr_2)\n",
    "\n",
    "print(\"\\n\")\n",
    "\n",
    "print(arr_1 ** arr_2)"
   ]
  },
  {
   "cell_type": "code",
   "execution_count": 15,
   "id": "39c08046",
   "metadata": {
    "ExecuteTime": {
     "end_time": "2021-09-08T12:15:52.692853Z",
     "start_time": "2021-09-08T12:15:52.670714Z"
    }
   },
   "outputs": [
    {
     "name": "stdout",
     "output_type": "stream",
     "text": [
      "[[1.         2.         1.5       ]\n",
      " [2.         1.66666667 2.        ]]\n"
     ]
    }
   ],
   "source": [
    "print(arr_1 / arr_2)"
   ]
  },
  {
   "cell_type": "code",
   "execution_count": 19,
   "id": "f15ea0f6",
   "metadata": {
    "ExecuteTime": {
     "end_time": "2021-09-08T12:18:16.139938Z",
     "start_time": "2021-09-08T12:18:16.134939Z"
    }
   },
   "outputs": [
    {
     "name": "stdout",
     "output_type": "stream",
     "text": [
      "[[1 2 1]\n",
      " [2 1 2]]\n"
     ]
    }
   ],
   "source": [
    "print(arr_1 // arr_2)  #取整"
   ]
  },
  {
   "cell_type": "code",
   "execution_count": 20,
   "id": "2abc6d2c",
   "metadata": {
    "ExecuteTime": {
     "end_time": "2021-09-08T12:18:17.801273Z",
     "start_time": "2021-09-08T12:18:17.797278Z"
    }
   },
   "outputs": [
    {
     "name": "stdout",
     "output_type": "stream",
     "text": [
      "[[0 0 1]\n",
      " [0 2 0]]\n"
     ]
    }
   ],
   "source": [
    "print(arr_1 % arr_2)  #取余"
   ]
  },
  {
   "cell_type": "code",
   "execution_count": 24,
   "id": "f722303d",
   "metadata": {
    "ExecuteTime": {
     "end_time": "2021-09-08T12:20:46.163854Z",
     "start_time": "2021-09-08T12:20:46.145868Z"
    }
   },
   "outputs": [
    {
     "name": "stdout",
     "output_type": "stream",
     "text": [
      "[1 2 3]\n",
      "[[1.  1.  1. ]\n",
      " [4.  2.5 2. ]]\n"
     ]
    }
   ],
   "source": [
    "arr_0 = np.array([1,2,3])  #一维的 [ ]\n",
    "print(arr_0)\n",
    "print(arr_1 / arr_0)"
   ]
  },
  {
   "cell_type": "code",
   "execution_count": 29,
   "id": "c25cc0c3",
   "metadata": {
    "ExecuteTime": {
     "end_time": "2021-09-08T12:24:09.257589Z",
     "start_time": "2021-09-08T12:24:09.239599Z"
    }
   },
   "outputs": [
    {
     "name": "stdout",
     "output_type": "stream",
     "text": [
      "[1 2 3 4]\n",
      "It's wrong.\n"
     ]
    }
   ],
   "source": [
    "arr_10 = np.array([1,2,3,4])  #一维的 [ ]\n",
    "print(arr_10)\n",
    "try:\n",
    "    x = arr_1 / arr_10\n",
    "except ValueError:\n",
    "    print(\"It's wrong.\")\n",
    "else:\n",
    "    print(x)"
   ]
  },
  {
   "cell_type": "code",
   "execution_count": 33,
   "id": "a19f0483",
   "metadata": {
    "ExecuteTime": {
     "end_time": "2021-09-08T12:28:04.020258Z",
     "start_time": "2021-09-08T12:28:04.003079Z"
    }
   },
   "outputs": [
    {
     "name": "stdout",
     "output_type": "stream",
     "text": [
      "[[1 2 3]\n",
      " [4 5 6]]\n",
      "\n",
      "\n",
      "[[3 4 5]\n",
      " [6 7 8]]\n",
      "\n",
      "\n",
      "[[-1  0  1]\n",
      " [ 2  3  4]]\n",
      "\n",
      "\n",
      "[[ 2  4  6]\n",
      " [ 8 10 12]]\n",
      "\n",
      "\n",
      "[[0.5 1.  1.5]\n",
      " [2.  2.5 3. ]]\n"
     ]
    }
   ],
   "source": [
    "print(arr_1)\n",
    "\n",
    "print(\"\\n\")\n",
    "\n",
    "print(arr_1 + 2)  #所有元素加2\n",
    "\n",
    "print(\"\\n\")\n",
    "\n",
    "print(arr_1 - 2)  #所有元素减2\n",
    "\n",
    "print(\"\\n\")\n",
    "\n",
    "print(arr_1 * 2)  #所有元素乘2\n",
    "\n",
    "print(\"\\n\")\n",
    "\n",
    "print(arr_1 / 2)  #所有元素除2"
   ]
  },
  {
   "cell_type": "markdown",
   "id": "238a8704",
   "metadata": {},
   "source": [
    "# 把返回的结果保存在新数组中"
   ]
  },
  {
   "cell_type": "code",
   "execution_count": 35,
   "id": "a9a60ee1",
   "metadata": {
    "ExecuteTime": {
     "end_time": "2021-09-08T12:33:35.810558Z",
     "start_time": "2021-09-08T12:33:35.793567Z"
    }
   },
   "outputs": [
    {
     "name": "stdout",
     "output_type": "stream",
     "text": [
      "[[False False False]\n",
      " [ True  True  True]]\n"
     ]
    }
   ],
   "source": [
    "arr_3 = arr_1 > 3  #判断元素是否大于三\n",
    "print(arr_3)"
   ]
  },
  {
   "cell_type": "markdown",
   "id": "f2b82dd3",
   "metadata": {},
   "source": [
    "# 创建指定元素的数组 函数ones(shape, dtype = None, order = 'C')"
   ]
  },
  {
   "cell_type": "code",
   "execution_count": 39,
   "id": "bad09c11",
   "metadata": {
    "ExecuteTime": {
     "end_time": "2021-09-08T12:39:15.704216Z",
     "start_time": "2021-09-08T12:39:15.692223Z"
    }
   },
   "outputs": [
    {
     "name": "stdout",
     "output_type": "stream",
     "text": [
      "[[1. 1. 1. 1. 1.]\n",
      " [1. 1. 1. 1. 1.]\n",
      " [1. 1. 1. 1. 1.]]\n"
     ]
    }
   ],
   "source": [
    "arr_4 = np.ones((3,5))  #ones( (a,b) )\n",
    "print(arr_4)"
   ]
  },
  {
   "cell_type": "markdown",
   "id": "eb0c0683",
   "metadata": {},
   "source": [
    "# 矩阵乘法 函数dot()"
   ]
  },
  {
   "cell_type": "code",
   "execution_count": 44,
   "id": "cb192258",
   "metadata": {
    "ExecuteTime": {
     "end_time": "2021-09-08T12:42:47.872887Z",
     "start_time": "2021-09-08T12:42:47.852897Z"
    }
   },
   "outputs": [
    {
     "name": "stdout",
     "output_type": "stream",
     "text": [
      "[[1 2 3]\n",
      " [4 5 6]]\n",
      "\n",
      "\n",
      "[[1. 1. 1. 1. 1.]\n",
      " [1. 1. 1. 1. 1.]\n",
      " [1. 1. 1. 1. 1.]]\n",
      "\n",
      "\n",
      "[[ 6.  6.  6.  6.  6.]\n",
      " [15. 15. 15. 15. 15.]]\n"
     ]
    }
   ],
   "source": [
    "print(arr_1)\n",
    "print(\"\\n\")\n",
    "print(arr_4)\n",
    "print(\"\\n\")\n",
    "\n",
    "c = np.dot(arr_1,arr_4)  #矩阵乘法 arr_1 2*3 arr_2 3*5 c 2*5\n",
    "print(c)"
   ]
  },
  {
   "cell_type": "code",
   "execution_count": 49,
   "id": "96378b67",
   "metadata": {
    "ExecuteTime": {
     "end_time": "2021-09-08T12:50:18.133471Z",
     "start_time": "2021-09-08T12:50:18.128479Z"
    }
   },
   "outputs": [
    {
     "name": "stdout",
     "output_type": "stream",
     "text": [
      "[[ 6.  6.  6.  6.  6.]\n",
      " [15. 15. 15. 15. 15.]]\n"
     ]
    }
   ],
   "source": [
    "#前一种方式 调用np的dot函数\n",
    "#矩阵乘法的另一种方式  调用arr_1的dot()方法\n",
    "d = arr_1.dot(arr_4)\n",
    "print(d)"
   ]
  },
  {
   "cell_type": "markdown",
   "id": "3882fd9a",
   "metadata": {},
   "source": [
    "# 转置矩阵  .T  .transpose()"
   ]
  },
  {
   "cell_type": "code",
   "execution_count": 59,
   "id": "ef76ec9d",
   "metadata": {
    "ExecuteTime": {
     "end_time": "2021-09-08T12:56:39.629419Z",
     "start_time": "2021-09-08T12:56:39.618411Z"
    }
   },
   "outputs": [
    {
     "name": "stdout",
     "output_type": "stream",
     "text": [
      "[[1 2 3]\n",
      " [4 5 6]]\n",
      "[[1 4]\n",
      " [2 5]\n",
      " [3 6]]\n",
      "[[1 4]\n",
      " [2 5]\n",
      " [3 6]]\n",
      "[[1 4]\n",
      " [2 5]\n",
      " [3 6]]\n"
     ]
    }
   ],
   "source": [
    "print(arr_1)\n",
    "print(arr_1.T)  #arr_1的转置矩阵\n",
    "print(arr_1.transpose())  #arr_1的转置矩阵 arr_1的transpose()方法\n",
    "print(np.transpose(arr_1))  #arr_1的转置矩阵 np的transpose()函数"
   ]
  },
  {
   "cell_type": "code",
   "execution_count": null,
   "id": "029957be",
   "metadata": {},
   "outputs": [],
   "source": []
  },
  {
   "cell_type": "code",
   "execution_count": null,
   "id": "b89335ed",
   "metadata": {},
   "outputs": [],
   "source": []
  },
  {
   "cell_type": "code",
   "execution_count": null,
   "id": "62811660",
   "metadata": {},
   "outputs": [],
   "source": []
  }
 ],
 "metadata": {
  "kernelspec": {
   "display_name": "Python 3",
   "language": "python",
   "name": "python3"
  },
  "language_info": {
   "codemirror_mode": {
    "name": "ipython",
    "version": 3
   },
   "file_extension": ".py",
   "mimetype": "text/x-python",
   "name": "python",
   "nbconvert_exporter": "python",
   "pygments_lexer": "ipython3",
   "version": "3.8.8"
  },
  "toc": {
   "base_numbering": 1,
   "nav_menu": {},
   "number_sections": true,
   "sideBar": true,
   "skip_h1_title": false,
   "title_cell": "Table of Contents",
   "title_sidebar": "Contents",
   "toc_cell": false,
   "toc_position": {},
   "toc_section_display": true,
   "toc_window_display": false
  },
  "varInspector": {
   "cols": {
    "lenName": 16,
    "lenType": 16,
    "lenVar": 40
   },
   "kernels_config": {
    "python": {
     "delete_cmd_postfix": "",
     "delete_cmd_prefix": "del ",
     "library": "var_list.py",
     "varRefreshCmd": "print(var_dic_list())"
    },
    "r": {
     "delete_cmd_postfix": ") ",
     "delete_cmd_prefix": "rm(",
     "library": "var_list.r",
     "varRefreshCmd": "cat(var_dic_list()) "
    }
   },
   "types_to_exclude": [
    "module",
    "function",
    "builtin_function_or_method",
    "instance",
    "_Feature"
   ],
   "window_display": false
  }
 },
 "nbformat": 4,
 "nbformat_minor": 5
}
