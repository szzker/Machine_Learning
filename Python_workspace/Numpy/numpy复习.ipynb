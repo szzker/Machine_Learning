{
 "cells": [
  {
   "cell_type": "code",
   "execution_count": 2,
   "id": "1187e433",
   "metadata": {},
   "outputs": [],
   "source": [
    "import numpy as np"
   ]
  },
  {
   "cell_type": "markdown",
   "id": "92c377e4",
   "metadata": {},
   "source": [
    "np.where()用法"
   ]
  },
  {
   "cell_type": "code",
   "execution_count": 3,
   "id": "c7c23fae",
   "metadata": {},
   "outputs": [
    {
     "data": {
      "text/plain": [
       "(array([3, 4], dtype=int64),)"
      ]
     },
     "execution_count": 3,
     "metadata": {},
     "output_type": "execute_result"
    }
   ],
   "source": [
    "song_array = np.array([10,20,30,40,50])\n",
    "np.where(song_array > 30)"
   ]
  },
  {
   "cell_type": "code",
   "execution_count": 6,
   "id": "6e1c65a8",
   "metadata": {},
   "outputs": [
    {
     "data": {
      "text/plain": [
       "array([40, 50])"
      ]
     },
     "execution_count": 6,
     "metadata": {},
     "output_type": "execute_result"
    }
   ],
   "source": [
    "song_array[np.where(song_array > 30)]"
   ]
  },
  {
   "cell_type": "markdown",
   "id": "ef94f9e9",
   "metadata": {},
   "source": [
    "不常用的格式"
   ]
  },
  {
   "cell_type": "code",
   "execution_count": 10,
   "id": "619308fa",
   "metadata": {},
   "outputs": [
    {
     "data": {
      "text/plain": [
       "array([1, 10, 3.5, 'str'], dtype=object)"
      ]
     },
     "execution_count": 10,
     "metadata": {},
     "output_type": "execute_result"
    }
   ],
   "source": [
    "arr = np.array([1,10,3.5,'str'],dtype = object)\n",
    "arr"
   ]
  },
  {
   "cell_type": "code",
   "execution_count": 11,
   "id": "176809e4",
   "metadata": {},
   "outputs": [
    {
     "data": {
      "text/plain": [
       "array([2, 20, 7.0, 'strstr'], dtype=object)"
      ]
     },
     "execution_count": 11,
     "metadata": {},
     "output_type": "execute_result"
    }
   ],
   "source": [
    "arr *2"
   ]
  },
  {
   "cell_type": "markdown",
   "id": "2ecacfda",
   "metadata": {},
   "source": [
    "np.asarray()重做数组"
   ]
  },
  {
   "cell_type": "code",
   "execution_count": 18,
   "id": "45c324f0",
   "metadata": {},
   "outputs": [],
   "source": [
    "arr = np.array([1,2,3,4,5])\n",
    "arr2 = np.asarray(arr,dtype = np.float32)"
   ]
  },
  {
   "cell_type": "code",
   "execution_count": 19,
   "id": "0278ad48",
   "metadata": {},
   "outputs": [
    {
     "data": {
      "text/plain": [
       "array([1, 2, 3, 4, 5])"
      ]
     },
     "execution_count": 19,
     "metadata": {},
     "output_type": "execute_result"
    }
   ],
   "source": [
    "arr"
   ]
  },
  {
   "cell_type": "code",
   "execution_count": 20,
   "id": "55a74b0b",
   "metadata": {},
   "outputs": [
    {
     "data": {
      "text/plain": [
       "array([1., 2., 3., 4., 5.], dtype=float32)"
      ]
     },
     "execution_count": 20,
     "metadata": {},
     "output_type": "execute_result"
    }
   ],
   "source": [
    "arr2"
   ]
  },
  {
   "cell_type": "markdown",
   "id": "dae40070",
   "metadata": {},
   "source": [
    ".astype()重做数组"
   ]
  },
  {
   "cell_type": "code",
   "execution_count": 21,
   "id": "ed52869c",
   "metadata": {},
   "outputs": [
    {
     "data": {
      "text/plain": [
       "array([1., 2., 3., 4., 5.], dtype=float32)"
      ]
     },
     "execution_count": 21,
     "metadata": {},
     "output_type": "execute_result"
    }
   ],
   "source": [
    "arr.astype(np.float32)"
   ]
  },
  {
   "cell_type": "markdown",
   "id": "19151a9b",
   "metadata": {},
   "source": [
    "### 数组的数值计算"
   ]
  },
  {
   "cell_type": "code",
   "execution_count": 23,
   "id": "ea88515f",
   "metadata": {},
   "outputs": [],
   "source": [
    "import numpy as np"
   ]
  },
  {
   "cell_type": "markdown",
   "id": "9ef26f67",
   "metadata": {},
   "source": [
    "指定要进行的操作是沿着什么轴"
   ]
  },
  {
   "cell_type": "code",
   "execution_count": 24,
   "id": "d530c242",
   "metadata": {},
   "outputs": [
    {
     "data": {
      "text/plain": [
       "array([[1, 2, 3],\n",
       "       [4, 5, 6]])"
      ]
     },
     "execution_count": 24,
     "metadata": {},
     "output_type": "execute_result"
    }
   ],
   "source": [
    "arr = np.array([[1,2,3],[4,5,6]])\n",
    "arr"
   ]
  },
  {
   "cell_type": "code",
   "execution_count": 25,
   "id": "2fa84592",
   "metadata": {},
   "outputs": [
    {
     "data": {
      "text/plain": [
       "21"
      ]
     },
     "execution_count": 25,
     "metadata": {},
     "output_type": "execute_result"
    }
   ],
   "source": [
    "np.sum(arr)"
   ]
  },
  {
   "cell_type": "code",
   "execution_count": 27,
   "id": "3bf38e5c",
   "metadata": {},
   "outputs": [
    {
     "data": {
      "text/plain": [
       "array([5, 7, 9])"
      ]
     },
     "execution_count": 27,
     "metadata": {},
     "output_type": "execute_result"
    }
   ],
   "source": [
    "np.sum(arr,axis=0)"
   ]
  },
  {
   "cell_type": "code",
   "execution_count": 28,
   "id": "6e287255",
   "metadata": {},
   "outputs": [
    {
     "data": {
      "text/plain": [
       "2"
      ]
     },
     "execution_count": 28,
     "metadata": {},
     "output_type": "execute_result"
    }
   ],
   "source": [
    "arr.ndim#维度"
   ]
  },
  {
   "cell_type": "code",
   "execution_count": 29,
   "id": "a84d1faf",
   "metadata": {},
   "outputs": [
    {
     "data": {
      "text/plain": [
       "array([ 6, 15])"
      ]
     },
     "execution_count": 29,
     "metadata": {},
     "output_type": "execute_result"
    }
   ],
   "source": [
    "np.sum(arr,axis=1)"
   ]
  },
  {
   "cell_type": "code",
   "execution_count": 31,
   "id": "ddd29168",
   "metadata": {},
   "outputs": [
    {
     "data": {
      "text/plain": [
       "array([ 6, 15])"
      ]
     },
     "execution_count": 31,
     "metadata": {},
     "output_type": "execute_result"
    }
   ],
   "source": [
    "np.sum(arr,axis=-1)#最后一个轴"
   ]
  },
  {
   "cell_type": "code",
   "execution_count": 33,
   "id": "917ef910",
   "metadata": {},
   "outputs": [
    {
     "data": {
      "text/plain": [
       "array([5, 7, 9])"
      ]
     },
     "execution_count": 33,
     "metadata": {},
     "output_type": "execute_result"
    }
   ],
   "source": [
    "arr.sum(axis=0)"
   ]
  },
  {
   "cell_type": "markdown",
   "id": "c6069228",
   "metadata": {},
   "source": [
    "求一个乘积"
   ]
  },
  {
   "cell_type": "code",
   "execution_count": 36,
   "id": "2e09fa48",
   "metadata": {},
   "outputs": [
    {
     "data": {
      "text/plain": [
       "array([[1, 2, 3],\n",
       "       [4, 5, 6]])"
      ]
     },
     "execution_count": 36,
     "metadata": {},
     "output_type": "execute_result"
    }
   ],
   "source": [
    "arr = np.array([[1,2,3],[4,5,6]])\n",
    "arr"
   ]
  },
  {
   "cell_type": "code",
   "execution_count": 37,
   "id": "583a2ea9",
   "metadata": {},
   "outputs": [
    {
     "data": {
      "text/plain": [
       "720"
      ]
     },
     "execution_count": 37,
     "metadata": {},
     "output_type": "execute_result"
    }
   ],
   "source": [
    "arr.prod()#1*2*3*4*5*6"
   ]
  },
  {
   "cell_type": "code",
   "execution_count": 38,
   "id": "338b4785",
   "metadata": {},
   "outputs": [
    {
     "data": {
      "text/plain": [
       "array([ 4, 10, 18])"
      ]
     },
     "execution_count": 38,
     "metadata": {},
     "output_type": "execute_result"
    }
   ],
   "source": [
    "arr.prod(axis=0)"
   ]
  },
  {
   "cell_type": "code",
   "execution_count": 39,
   "id": "1612f066",
   "metadata": {},
   "outputs": [
    {
     "data": {
      "text/plain": [
       "array([  6, 120])"
      ]
     },
     "execution_count": 39,
     "metadata": {},
     "output_type": "execute_result"
    }
   ],
   "source": [
    "arr.prod(axis=1)"
   ]
  },
  {
   "cell_type": "markdown",
   "id": "56c497fe",
   "metadata": {},
   "source": [
    "求最大最小值 求最大最小值的索引"
   ]
  },
  {
   "cell_type": "code",
   "execution_count": 40,
   "id": "e98bc7a2",
   "metadata": {},
   "outputs": [
    {
     "data": {
      "text/plain": [
       "1"
      ]
     },
     "execution_count": 40,
     "metadata": {},
     "output_type": "execute_result"
    }
   ],
   "source": [
    "arr.min()"
   ]
  },
  {
   "cell_type": "code",
   "execution_count": 41,
   "id": "71bef346",
   "metadata": {},
   "outputs": [
    {
     "data": {
      "text/plain": [
       "6"
      ]
     },
     "execution_count": 41,
     "metadata": {},
     "output_type": "execute_result"
    }
   ],
   "source": [
    "arr.max()"
   ]
  },
  {
   "cell_type": "code",
   "execution_count": 42,
   "id": "4c80eb84",
   "metadata": {},
   "outputs": [
    {
     "data": {
      "text/plain": [
       "array([4, 5, 6])"
      ]
     },
     "execution_count": 42,
     "metadata": {},
     "output_type": "execute_result"
    }
   ],
   "source": [
    "arr.max(axis=0)"
   ]
  },
  {
   "cell_type": "code",
   "execution_count": 43,
   "id": "5beec1a8",
   "metadata": {},
   "outputs": [
    {
     "data": {
      "text/plain": [
       "array([3, 6])"
      ]
     },
     "execution_count": 43,
     "metadata": {},
     "output_type": "execute_result"
    }
   ],
   "source": [
    "arr.max(axis=1)"
   ]
  },
  {
   "cell_type": "code",
   "execution_count": 44,
   "id": "773be011",
   "metadata": {},
   "outputs": [
    {
     "data": {
      "text/plain": [
       "5"
      ]
     },
     "execution_count": 44,
     "metadata": {},
     "output_type": "execute_result"
    }
   ],
   "source": [
    "arr.argmax()"
   ]
  },
  {
   "cell_type": "code",
   "execution_count": 45,
   "id": "9884665b",
   "metadata": {},
   "outputs": [
    {
     "data": {
      "text/plain": [
       "array([1, 1, 1], dtype=int64)"
      ]
     },
     "execution_count": 45,
     "metadata": {},
     "output_type": "execute_result"
    }
   ],
   "source": [
    "arr.argmax(axis=0)"
   ]
  },
  {
   "cell_type": "code",
   "execution_count": 47,
   "id": "c8b02ad9",
   "metadata": {},
   "outputs": [
    {
     "data": {
      "text/plain": [
       "array([0, 0], dtype=int64)"
      ]
     },
     "execution_count": 47,
     "metadata": {},
     "output_type": "execute_result"
    }
   ],
   "source": [
    "arr.argmin(axis=1)"
   ]
  },
  {
   "cell_type": "markdown",
   "id": "0dfd573b",
   "metadata": {},
   "source": [
    "求均值"
   ]
  },
  {
   "cell_type": "code",
   "execution_count": 48,
   "id": "c221b6d4",
   "metadata": {},
   "outputs": [
    {
     "data": {
      "text/plain": [
       "3.5"
      ]
     },
     "execution_count": 48,
     "metadata": {},
     "output_type": "execute_result"
    }
   ],
   "source": [
    "arr.mean()"
   ]
  },
  {
   "cell_type": "code",
   "execution_count": 49,
   "id": "96731a5d",
   "metadata": {},
   "outputs": [
    {
     "data": {
      "text/plain": [
       "array([2.5, 3.5, 4.5])"
      ]
     },
     "execution_count": 49,
     "metadata": {},
     "output_type": "execute_result"
    }
   ],
   "source": [
    "arr.mean(axis=0)"
   ]
  },
  {
   "cell_type": "markdown",
   "id": "27e3d12d",
   "metadata": {},
   "source": [
    "标准差"
   ]
  },
  {
   "cell_type": "code",
   "execution_count": 50,
   "id": "400ddfab",
   "metadata": {},
   "outputs": [
    {
     "data": {
      "text/plain": [
       "1.707825127659933"
      ]
     },
     "execution_count": 50,
     "metadata": {},
     "output_type": "execute_result"
    }
   ],
   "source": [
    "arr.std()"
   ]
  },
  {
   "cell_type": "code",
   "execution_count": 51,
   "id": "19baf7b9",
   "metadata": {},
   "outputs": [
    {
     "data": {
      "text/plain": [
       "array([1.5, 1.5, 1.5])"
      ]
     },
     "execution_count": 51,
     "metadata": {},
     "output_type": "execute_result"
    }
   ],
   "source": [
    "arr.std(axis=0)"
   ]
  },
  {
   "cell_type": "markdown",
   "id": "510c7437",
   "metadata": {},
   "source": [
    "方差"
   ]
  },
  {
   "cell_type": "code",
   "execution_count": 52,
   "id": "3d4c0096",
   "metadata": {},
   "outputs": [
    {
     "data": {
      "text/plain": [
       "2.9166666666666665"
      ]
     },
     "execution_count": 52,
     "metadata": {},
     "output_type": "execute_result"
    }
   ],
   "source": [
    "arr.var()"
   ]
  },
  {
   "cell_type": "markdown",
   "id": "c372415b",
   "metadata": {},
   "source": [
    "做限制"
   ]
  },
  {
   "cell_type": "code",
   "execution_count": 53,
   "id": "5cf5f80d",
   "metadata": {},
   "outputs": [
    {
     "data": {
      "text/plain": [
       "array([[1, 2, 3],\n",
       "       [4, 5, 6]])"
      ]
     },
     "execution_count": 53,
     "metadata": {},
     "output_type": "execute_result"
    }
   ],
   "source": [
    "arr"
   ]
  },
  {
   "cell_type": "code",
   "execution_count": 54,
   "id": "4eadbb17",
   "metadata": {},
   "outputs": [
    {
     "data": {
      "text/plain": [
       "array([[2, 2, 3],\n",
       "       [4, 4, 4]])"
      ]
     },
     "execution_count": 54,
     "metadata": {},
     "output_type": "execute_result"
    }
   ],
   "source": [
    "arr.clip(2,4)"
   ]
  },
  {
   "cell_type": "code",
   "execution_count": 55,
   "id": "79689886",
   "metadata": {},
   "outputs": [
    {
     "data": {
      "text/plain": [
       "array([[1, 2, 3],\n",
       "       [4, 5, 6]])"
      ]
     },
     "execution_count": 55,
     "metadata": {},
     "output_type": "execute_result"
    }
   ],
   "source": [
    "arr"
   ]
  },
  {
   "cell_type": "markdown",
   "id": "c99d944b",
   "metadata": {},
   "source": [
    "做近似 四舍五入"
   ]
  },
  {
   "cell_type": "code",
   "execution_count": 57,
   "id": "5fffdaea",
   "metadata": {},
   "outputs": [
    {
     "data": {
      "text/plain": [
       "array([1., 4., 6.])"
      ]
     },
     "execution_count": 57,
     "metadata": {},
     "output_type": "execute_result"
    }
   ],
   "source": [
    "arr = np.array([1.2,3.56,6.41])\n",
    "arr.round()"
   ]
  },
  {
   "cell_type": "code",
   "execution_count": 60,
   "id": "430246f5",
   "metadata": {},
   "outputs": [
    {
     "data": {
      "text/plain": [
       "array([1.2, 3.6, 6.4])"
      ]
     },
     "execution_count": 60,
     "metadata": {},
     "output_type": "execute_result"
    }
   ],
   "source": [
    "#指定四舍五入的精度\n",
    "arr.round(decimals=1)#decimals 小数"
   ]
  },
  {
   "cell_type": "markdown",
   "id": "6c94b699",
   "metadata": {},
   "source": [
    "排序"
   ]
  },
  {
   "cell_type": "code",
   "execution_count": 62,
   "id": "afea3c87",
   "metadata": {},
   "outputs": [],
   "source": [
    "import numpy as np"
   ]
  },
  {
   "cell_type": "code",
   "execution_count": 63,
   "id": "358417fe",
   "metadata": {},
   "outputs": [
    {
     "data": {
      "text/plain": [
       "array([[1.5, 1.3, 7.5],\n",
       "       [5.6, 7.8, 1.2]])"
      ]
     },
     "execution_count": 63,
     "metadata": {},
     "output_type": "execute_result"
    }
   ],
   "source": [
    "arr = np.array([[1.5,1.3,7.5],\n",
    "                [5.6,7.8,1.2]])\n",
    "arr"
   ]
  },
  {
   "cell_type": "code",
   "execution_count": 64,
   "id": "77c07f0f",
   "metadata": {},
   "outputs": [
    {
     "data": {
      "text/plain": [
       "array([[1.3, 1.5, 7.5],\n",
       "       [1.2, 5.6, 7.8]])"
      ]
     },
     "execution_count": 64,
     "metadata": {},
     "output_type": "execute_result"
    }
   ],
   "source": [
    "np.sort(arr)#默认用最后一个轴进行排序 axis=-1"
   ]
  },
  {
   "cell_type": "code",
   "execution_count": 65,
   "id": "367cfd89",
   "metadata": {},
   "outputs": [
    {
     "data": {
      "text/plain": [
       "array([[1.5, 1.3, 1.2],\n",
       "       [5.6, 7.8, 7.5]])"
      ]
     },
     "execution_count": 65,
     "metadata": {},
     "output_type": "execute_result"
    }
   ],
   "source": [
    "np.sort(arr,axis=0)"
   ]
  },
  {
   "cell_type": "code",
   "execution_count": 66,
   "id": "a6b83883",
   "metadata": {},
   "outputs": [
    {
     "data": {
      "text/plain": [
       "array([[1.5, 1.3, 7.5],\n",
       "       [5.6, 7.8, 1.2]])"
      ]
     },
     "execution_count": 66,
     "metadata": {},
     "output_type": "execute_result"
    }
   ],
   "source": [
    "arr"
   ]
  },
  {
   "cell_type": "code",
   "execution_count": 68,
   "id": "79245e2b",
   "metadata": {},
   "outputs": [
    {
     "data": {
      "text/plain": [
       "array([[1, 0, 2],\n",
       "       [2, 0, 1]], dtype=int64)"
      ]
     },
     "execution_count": 68,
     "metadata": {},
     "output_type": "execute_result"
    }
   ],
   "source": [
    "np.argsort(arr)#返回的是原来的索引值"
   ]
  },
  {
   "cell_type": "markdown",
   "id": "2607fa2b",
   "metadata": {},
   "source": [
    "查找应插入元素以保持顺序的索引"
   ]
  },
  {
   "cell_type": "code",
   "execution_count": 70,
   "id": "4f2fc8d6",
   "metadata": {},
   "outputs": [
    {
     "data": {
      "text/plain": [
       "array([ 0.        ,  1.11111111,  2.22222222,  3.33333333,  4.44444444,\n",
       "        5.55555556,  6.66666667,  7.77777778,  8.88888889, 10.        ])"
      ]
     },
     "execution_count": 70,
     "metadata": {},
     "output_type": "execute_result"
    }
   ],
   "source": [
    "arr = np.linspace(0,10,10)\n",
    "arr"
   ]
  },
  {
   "cell_type": "code",
   "execution_count": 74,
   "id": "3167ab9f",
   "metadata": {},
   "outputs": [
    {
     "data": {
      "text/plain": [
       "array([2.5, 6.5, 9.5])"
      ]
     },
     "execution_count": 74,
     "metadata": {},
     "output_type": "execute_result"
    }
   ],
   "source": [
    "values = np.array([2.5,6.5,9.5])\n",
    "values"
   ]
  },
  {
   "cell_type": "code",
   "execution_count": 77,
   "id": "6b99a349",
   "metadata": {},
   "outputs": [
    {
     "data": {
      "text/plain": [
       "array([3, 6, 9], dtype=int64)"
      ]
     },
     "execution_count": 77,
     "metadata": {},
     "output_type": "execute_result"
    }
   ],
   "source": [
    "np.searchsorted(arr,values)#要求arr是排序好的数组"
   ]
  },
  {
   "cell_type": "markdown",
   "id": "176ed8a0",
   "metadata": {},
   "source": [
    "同时操作多个列"
   ]
  },
  {
   "cell_type": "code",
   "execution_count": 1,
   "id": "910261ea",
   "metadata": {
    "ExecuteTime": {
     "end_time": "2021-09-13T02:11:28.243290Z",
     "start_time": "2021-09-13T02:11:28.186373Z"
    }
   },
   "outputs": [
    {
     "data": {
      "text/plain": [
       "array([[1, 0, 6],\n",
       "       [1, 7, 0],\n",
       "       [2, 3, 1],\n",
       "       [2, 4, 0]])"
      ]
     },
     "execution_count": 1,
     "metadata": {},
     "output_type": "execute_result"
    }
   ],
   "source": [
    "arr = np.array([[1,0,6],[1,7,0],[2,3,1],[2,4,0]])\n",
    "arr"
   ]
  },
  {
   "cell_type": "code",
   "execution_count": 3,
   "id": "e8dacd30",
   "metadata": {
    "ExecuteTime": {
     "end_time": "2021-09-13T02:14:28.347527Z",
     "start_time": "2021-09-13T02:14:27.755464Z"
    }
   },
   "outputs": [
    {
     "data": {
      "text/plain": [
       "array([3, 1, 2, 0], dtype=int64)"
      ]
     },
     "execution_count": 3,
     "metadata": {},
     "output_type": "execute_result"
    }
   ],
   "source": [
    "index = np.lexsort([-1*arr[:,0],arr[:,2]])#第0列倒叙 第2列升序\n",
    "index"
   ]
  },
  {
   "cell_type": "code",
   "execution_count": 6,
   "id": "67e8cc60",
   "metadata": {
    "ExecuteTime": {
     "end_time": "2021-09-13T02:23:03.786404Z",
     "start_time": "2021-09-13T02:23:03.770415Z"
    }
   },
   "outputs": [
    {
     "data": {
      "text/plain": [
       "array([[2, 4, 0],\n",
       "       [1, 7, 0],\n",
       "       [2, 3, 1],\n",
       "       [1, 0, 6]])"
      ]
     },
     "execution_count": 6,
     "metadata": {},
     "output_type": "execute_result"
    }
   ],
   "source": [
    "arr = arr[index]#在第2列升序的前提下 对第0列进行降序 如第2列前两个数都为0 第1列的前两个数进行了一个降序\n",
    "arr"
   ]
  },
  {
   "cell_type": "markdown",
   "id": "1005808c",
   "metadata": {},
   "source": [
    "### 数组形状"
   ]
  },
  {
   "cell_type": "code",
   "execution_count": 8,
   "id": "869c2f6e",
   "metadata": {
    "ExecuteTime": {
     "end_time": "2021-09-13T02:24:19.926880Z",
     "start_time": "2021-09-13T02:24:19.918887Z"
    }
   },
   "outputs": [],
   "source": [
    "import numpy as np"
   ]
  },
  {
   "cell_type": "code",
   "execution_count": 11,
   "id": "a5d1b0c3",
   "metadata": {
    "ExecuteTime": {
     "end_time": "2021-09-13T02:25:10.550824Z",
     "start_time": "2021-09-13T02:25:10.530849Z"
    }
   },
   "outputs": [
    {
     "data": {
      "text/plain": [
       "array([0, 1, 2, 3, 4, 5, 6, 7, 8, 9])"
      ]
     },
     "execution_count": 11,
     "metadata": {},
     "output_type": "execute_result"
    }
   ],
   "source": [
    "arr = np.arange(10)\n",
    "arr"
   ]
  },
  {
   "cell_type": "code",
   "execution_count": 12,
   "id": "00e744b7",
   "metadata": {
    "ExecuteTime": {
     "end_time": "2021-09-13T02:25:22.258248Z",
     "start_time": "2021-09-13T02:25:22.242107Z"
    }
   },
   "outputs": [
    {
     "data": {
      "text/plain": [
       "(10,)"
      ]
     },
     "execution_count": 12,
     "metadata": {},
     "output_type": "execute_result"
    }
   ],
   "source": [
    "arr.shape"
   ]
  },
  {
   "cell_type": "markdown",
   "id": "58a2ce63",
   "metadata": {},
   "source": [
    "改变数组形状的两种方法"
   ]
  },
  {
   "cell_type": "code",
   "execution_count": 13,
   "id": "4df80c6c",
   "metadata": {
    "ExecuteTime": {
     "end_time": "2021-09-13T02:25:45.777222Z",
     "start_time": "2021-09-13T02:25:45.768643Z"
    }
   },
   "outputs": [
    {
     "data": {
      "text/plain": [
       "(2, 5)"
      ]
     },
     "execution_count": 13,
     "metadata": {},
     "output_type": "execute_result"
    }
   ],
   "source": [
    "arr.shape = 2,5\n",
    "arr.shape"
   ]
  },
  {
   "cell_type": "code",
   "execution_count": 15,
   "id": "2741507d",
   "metadata": {
    "ExecuteTime": {
     "end_time": "2021-09-13T02:26:18.931380Z",
     "start_time": "2021-09-13T02:26:18.923543Z"
    }
   },
   "outputs": [
    {
     "data": {
      "text/plain": [
       "array([[0, 1, 2, 3, 4],\n",
       "       [5, 6, 7, 8, 9]])"
      ]
     },
     "execution_count": 15,
     "metadata": {},
     "output_type": "execute_result"
    }
   ],
   "source": [
    "arr"
   ]
  },
  {
   "cell_type": "code",
   "execution_count": 16,
   "id": "4531b57f",
   "metadata": {
    "ExecuteTime": {
     "end_time": "2021-09-13T02:26:41.741761Z",
     "start_time": "2021-09-13T02:26:41.718075Z"
    }
   },
   "outputs": [
    {
     "data": {
      "text/plain": [
       "array([[0, 1, 2, 3, 4, 5, 6, 7, 8, 9]])"
      ]
     },
     "execution_count": 16,
     "metadata": {},
     "output_type": "execute_result"
    }
   ],
   "source": [
    "arr.reshape(1,10)"
   ]
  },
  {
   "cell_type": "code",
   "execution_count": 17,
   "id": "4df8f1a8",
   "metadata": {
    "ExecuteTime": {
     "end_time": "2021-09-13T02:28:42.781208Z",
     "start_time": "2021-09-13T02:28:42.749193Z"
    }
   },
   "outputs": [
    {
     "ename": "ValueError",
     "evalue": "cannot reshape array of size 10 into shape (3,4)",
     "output_type": "error",
     "traceback": [
      "\u001b[1;31m---------------------------------------------------------------------------\u001b[0m",
      "\u001b[1;31mValueError\u001b[0m                                Traceback (most recent call last)",
      "\u001b[1;32m<ipython-input-17-469715257f3e>\u001b[0m in \u001b[0;36m<module>\u001b[1;34m\u001b[0m\n\u001b[0;32m      1\u001b[0m \u001b[1;31m#数组大小不能改变\u001b[0m\u001b[1;33m\u001b[0m\u001b[1;33m\u001b[0m\u001b[1;33m\u001b[0m\u001b[0m\n\u001b[1;32m----> 2\u001b[1;33m \u001b[0marr\u001b[0m\u001b[1;33m.\u001b[0m\u001b[0mshape\u001b[0m \u001b[1;33m=\u001b[0m \u001b[1;36m3\u001b[0m\u001b[1;33m,\u001b[0m\u001b[1;36m4\u001b[0m\u001b[1;33m\u001b[0m\u001b[1;33m\u001b[0m\u001b[0m\n\u001b[0m",
      "\u001b[1;31mValueError\u001b[0m: cannot reshape array of size 10 into shape (3,4)"
     ]
    }
   ],
   "source": [
    "#数组大小不能改变\n",
    "arr.shape = 3,4 #3*4=12 > 10"
   ]
  },
  {
   "cell_type": "code",
   "execution_count": 22,
   "id": "f67a90bb",
   "metadata": {
    "ExecuteTime": {
     "end_time": "2021-09-13T02:31:13.205778Z",
     "start_time": "2021-09-13T02:31:13.189783Z"
    }
   },
   "outputs": [
    {
     "data": {
      "text/plain": [
       "array([0, 1, 2, 3, 4, 5, 6, 7, 8, 9])"
      ]
     },
     "execution_count": 22,
     "metadata": {},
     "output_type": "execute_result"
    }
   ],
   "source": [
    "arr = np.arange(10)\n",
    "arr"
   ]
  },
  {
   "cell_type": "code",
   "execution_count": 23,
   "id": "683842de",
   "metadata": {
    "ExecuteTime": {
     "end_time": "2021-09-13T02:31:14.724759Z",
     "start_time": "2021-09-13T02:31:14.708768Z"
    }
   },
   "outputs": [
    {
     "data": {
      "text/plain": [
       "(10,)"
      ]
     },
     "execution_count": 23,
     "metadata": {},
     "output_type": "execute_result"
    }
   ],
   "source": [
    "arr.shape"
   ]
  },
  {
   "cell_type": "code",
   "execution_count": 24,
   "id": "54217389",
   "metadata": {
    "ExecuteTime": {
     "end_time": "2021-09-13T02:31:17.610862Z",
     "start_time": "2021-09-13T02:31:17.594884Z"
    }
   },
   "outputs": [
    {
     "data": {
      "text/plain": [
       "array([[0, 1, 2, 3, 4, 5, 6, 7, 8, 9]])"
      ]
     },
     "execution_count": 24,
     "metadata": {},
     "output_type": "execute_result"
    }
   ],
   "source": [
    "arr = arr[np.newaxis,:]\n",
    "arr"
   ]
  },
  {
   "cell_type": "code",
   "execution_count": 25,
   "id": "b321bde8",
   "metadata": {
    "ExecuteTime": {
     "end_time": "2021-09-13T02:31:23.670780Z",
     "start_time": "2021-09-13T02:31:23.662786Z"
    }
   },
   "outputs": [
    {
     "data": {
      "text/plain": [
       "(1, 10)"
      ]
     },
     "execution_count": 25,
     "metadata": {},
     "output_type": "execute_result"
    }
   ],
   "source": [
    "arr.shape"
   ]
  },
  {
   "cell_type": "code",
   "execution_count": 29,
   "id": "9fdab49d",
   "metadata": {
    "ExecuteTime": {
     "end_time": "2021-09-13T02:33:29.568348Z",
     "start_time": "2021-09-13T02:33:29.560360Z"
    }
   },
   "outputs": [
    {
     "data": {
      "text/plain": [
       "(10, 1)"
      ]
     },
     "execution_count": 29,
     "metadata": {},
     "output_type": "execute_result"
    }
   ],
   "source": [
    "arr = np.arange(10)\n",
    "arr = arr[:,np.newaxis]\n",
    "arr.shape"
   ]
  },
  {
   "cell_type": "code",
   "execution_count": 30,
   "id": "11f7c227",
   "metadata": {
    "ExecuteTime": {
     "end_time": "2021-09-13T02:34:03.425732Z",
     "start_time": "2021-09-13T02:34:03.417700Z"
    }
   },
   "outputs": [
    {
     "data": {
      "text/plain": [
       "(10, 1, 1)"
      ]
     },
     "execution_count": 30,
     "metadata": {},
     "output_type": "execute_result"
    }
   ],
   "source": [
    "arr = np.arange(10)\n",
    "arr = arr[:,np.newaxis,np.newaxis]\n",
    "arr.shape"
   ]
  },
  {
   "cell_type": "code",
   "execution_count": 31,
   "id": "42038759",
   "metadata": {
    "ExecuteTime": {
     "end_time": "2021-09-13T02:34:43.943684Z",
     "start_time": "2021-09-13T02:34:43.927710Z"
    }
   },
   "outputs": [
    {
     "data": {
      "text/plain": [
       "(10, 1, 1, 1)"
      ]
     },
     "execution_count": 31,
     "metadata": {},
     "output_type": "execute_result"
    }
   ],
   "source": [
    "arr = arr[:,np.newaxis]\n",
    "arr.shape"
   ]
  },
  {
   "cell_type": "code",
   "execution_count": 32,
   "id": "2b705871",
   "metadata": {
    "ExecuteTime": {
     "end_time": "2021-09-13T02:35:53.964969Z",
     "start_time": "2021-09-13T02:35:53.948942Z"
    }
   },
   "outputs": [
    {
     "data": {
      "text/plain": [
       "(10,)"
      ]
     },
     "execution_count": 32,
     "metadata": {},
     "output_type": "execute_result"
    }
   ],
   "source": [
    "#压缩 去掉多余的空轴\n",
    "arr = arr.squeeze()\n",
    "arr.shape"
   ]
  },
  {
   "cell_type": "code",
   "execution_count": 34,
   "id": "3df60363",
   "metadata": {
    "ExecuteTime": {
     "end_time": "2021-09-13T02:36:42.955964Z",
     "start_time": "2021-09-13T02:36:42.935951Z"
    }
   },
   "outputs": [
    {
     "data": {
      "text/plain": [
       "array([[0, 1, 2, 3, 4],\n",
       "       [5, 6, 7, 8, 9]])"
      ]
     },
     "execution_count": 34,
     "metadata": {},
     "output_type": "execute_result"
    }
   ],
   "source": [
    "arr.shape = 2,5\n",
    "arr"
   ]
  },
  {
   "cell_type": "markdown",
   "id": "deb732f7",
   "metadata": {},
   "source": [
    "转置"
   ]
  },
  {
   "cell_type": "code",
   "execution_count": 36,
   "id": "08e95163",
   "metadata": {
    "ExecuteTime": {
     "end_time": "2021-09-13T02:37:38.817639Z",
     "start_time": "2021-09-13T02:37:38.807106Z"
    }
   },
   "outputs": [
    {
     "data": {
      "text/plain": [
       "array([[0, 5],\n",
       "       [1, 6],\n",
       "       [2, 7],\n",
       "       [3, 8],\n",
       "       [4, 9]])"
      ]
     },
     "execution_count": 36,
     "metadata": {},
     "output_type": "execute_result"
    }
   ],
   "source": [
    "arr.transpose()"
   ]
  },
  {
   "cell_type": "code",
   "execution_count": 37,
   "id": "bb0cc20d",
   "metadata": {
    "ExecuteTime": {
     "end_time": "2021-09-13T02:37:47.148809Z",
     "start_time": "2021-09-13T02:37:47.127084Z"
    }
   },
   "outputs": [
    {
     "data": {
      "text/plain": [
       "array([[0, 5],\n",
       "       [1, 6],\n",
       "       [2, 7],\n",
       "       [3, 8],\n",
       "       [4, 9]])"
      ]
     },
     "execution_count": 37,
     "metadata": {},
     "output_type": "execute_result"
    }
   ],
   "source": [
    "arr.T"
   ]
  },
  {
   "cell_type": "code",
   "execution_count": 38,
   "id": "6c0000a9",
   "metadata": {
    "ExecuteTime": {
     "end_time": "2021-09-13T02:38:29.267716Z",
     "start_time": "2021-09-13T02:38:29.247782Z"
    }
   },
   "outputs": [
    {
     "data": {
      "text/plain": [
       "array([[0, 1, 2, 3, 4],\n",
       "       [5, 6, 7, 8, 9]])"
      ]
     },
     "execution_count": 38,
     "metadata": {},
     "output_type": "execute_result"
    }
   ],
   "source": [
    "arr"
   ]
  },
  {
   "cell_type": "code",
   "execution_count": 39,
   "id": "7608be67",
   "metadata": {
    "ExecuteTime": {
     "end_time": "2021-09-13T02:38:52.695867Z",
     "start_time": "2021-09-13T02:38:52.687873Z"
    }
   },
   "outputs": [
    {
     "data": {
      "text/plain": [
       "array([[0, 5],\n",
       "       [1, 6],\n",
       "       [2, 7],\n",
       "       [3, 8],\n",
       "       [4, 9]])"
      ]
     },
     "execution_count": 39,
     "metadata": {},
     "output_type": "execute_result"
    }
   ],
   "source": [
    "#把转置后的值重新赋值\n",
    "arr = arr.T\n",
    "arr"
   ]
  },
  {
   "cell_type": "markdown",
   "id": "42f28457",
   "metadata": {
    "ExecuteTime": {
     "end_time": "2021-09-13T02:39:43.840884Z",
     "start_time": "2021-09-13T02:39:43.832861Z"
    }
   },
   "source": [
    "### 数组的连接"
   ]
  },
  {
   "cell_type": "code",
   "execution_count": 41,
   "id": "52bb085b",
   "metadata": {
    "ExecuteTime": {
     "end_time": "2021-09-13T02:40:27.739136Z",
     "start_time": "2021-09-13T02:40:27.723542Z"
    }
   },
   "outputs": [
    {
     "data": {
      "text/plain": [
       "array([[ 123,  456,  678],\n",
       "       [3214,  444,  555]])"
      ]
     },
     "execution_count": 41,
     "metadata": {},
     "output_type": "execute_result"
    }
   ],
   "source": [
    "a = np.array([[123,456,678],[3214,444,555]])\n",
    "a"
   ]
  },
  {
   "cell_type": "code",
   "execution_count": 47,
   "id": "73fa11af",
   "metadata": {
    "ExecuteTime": {
     "end_time": "2021-09-13T02:41:01.351154Z",
     "start_time": "2021-09-13T02:41:01.339615Z"
    }
   },
   "outputs": [
    {
     "data": {
      "text/plain": [
       "array([[ 23, 476, 678],\n",
       "       [ 14,  44,  55]])"
      ]
     },
     "execution_count": 47,
     "metadata": {},
     "output_type": "execute_result"
    }
   ],
   "source": [
    "b = np.array([[23,476,678],[14,44,55]])\n",
    "b"
   ]
  },
  {
   "cell_type": "code",
   "execution_count": 52,
   "id": "8211e27f",
   "metadata": {
    "ExecuteTime": {
     "end_time": "2021-09-13T02:43:40.897998Z",
     "start_time": "2021-09-13T02:43:40.882104Z"
    }
   },
   "outputs": [
    {
     "data": {
      "text/plain": [
       "array([[ 123,  456,  678],\n",
       "       [3214,  444,  555],\n",
       "       [  23,  476,  678],\n",
       "       [  14,   44,   55]])"
      ]
     },
     "execution_count": 52,
     "metadata": {},
     "output_type": "execute_result"
    }
   ],
   "source": [
    "c = np.concatenate((a,b))#a,b要写成类似于元祖的格式\n",
    "c"
   ]
  },
  {
   "cell_type": "code",
   "execution_count": 53,
   "id": "c42fe3fd",
   "metadata": {
    "ExecuteTime": {
     "end_time": "2021-09-13T02:44:26.237402Z",
     "start_time": "2021-09-13T02:44:26.221034Z"
    }
   },
   "outputs": [
    {
     "data": {
      "text/plain": [
       "array([[ 123,  456,  678,   23,  476,  678],\n",
       "       [3214,  444,  555,   14,   44,   55]])"
      ]
     },
     "execution_count": 53,
     "metadata": {},
     "output_type": "execute_result"
    }
   ],
   "source": [
    "c = np.concatenate((a,b),axis=1)\n",
    "c"
   ]
  },
  {
   "cell_type": "code",
   "execution_count": 54,
   "id": "508ff787",
   "metadata": {
    "ExecuteTime": {
     "end_time": "2021-09-13T02:44:59.629717Z",
     "start_time": "2021-09-13T02:44:59.612320Z"
    }
   },
   "outputs": [
    {
     "data": {
      "text/plain": [
       "(2, 6)"
      ]
     },
     "execution_count": 54,
     "metadata": {},
     "output_type": "execute_result"
    }
   ],
   "source": [
    "c.shape"
   ]
  },
  {
   "cell_type": "markdown",
   "id": "2c5b1cc2",
   "metadata": {},
   "source": [
    "竖着拼接还是横着拼接"
   ]
  },
  {
   "cell_type": "code",
   "execution_count": 55,
   "id": "8920f010",
   "metadata": {
    "ExecuteTime": {
     "end_time": "2021-09-13T02:45:59.616560Z",
     "start_time": "2021-09-13T02:45:59.600570Z"
    }
   },
   "outputs": [
    {
     "data": {
      "text/plain": [
       "array([[ 123,  456,  678],\n",
       "       [3214,  444,  555],\n",
       "       [  23,  476,  678],\n",
       "       [  14,   44,   55]])"
      ]
     },
     "execution_count": 55,
     "metadata": {},
     "output_type": "execute_result"
    }
   ],
   "source": [
    "np.vstack((a,b))"
   ]
  },
  {
   "cell_type": "code",
   "execution_count": 56,
   "id": "62e3b973",
   "metadata": {
    "ExecuteTime": {
     "end_time": "2021-09-13T02:46:13.619536Z",
     "start_time": "2021-09-13T02:46:13.607820Z"
    }
   },
   "outputs": [
    {
     "data": {
      "text/plain": [
       "array([[ 123,  456,  678,   23,  476,  678],\n",
       "       [3214,  444,  555,   14,   44,   55]])"
      ]
     },
     "execution_count": 56,
     "metadata": {},
     "output_type": "execute_result"
    }
   ],
   "source": [
    "np.hstack((a,b))"
   ]
  },
  {
   "cell_type": "code",
   "execution_count": 58,
   "id": "ae62804e",
   "metadata": {
    "ExecuteTime": {
     "end_time": "2021-09-13T02:50:09.886589Z",
     "start_time": "2021-09-13T02:50:09.870647Z"
    }
   },
   "outputs": [
    {
     "data": {
      "text/plain": [
       "array([[ 123,  456,  678],\n",
       "       [3214,  444,  555]])"
      ]
     },
     "execution_count": 58,
     "metadata": {},
     "output_type": "execute_result"
    }
   ],
   "source": [
    "a"
   ]
  },
  {
   "cell_type": "markdown",
   "id": "07ef9a24",
   "metadata": {},
   "source": [
    "拉平"
   ]
  },
  {
   "cell_type": "code",
   "execution_count": 59,
   "id": "4bd4c15e",
   "metadata": {
    "ExecuteTime": {
     "end_time": "2021-09-13T02:50:20.327878Z",
     "start_time": "2021-09-13T02:50:20.311284Z"
    }
   },
   "outputs": [
    {
     "data": {
      "text/plain": [
       "array([ 123,  456,  678, 3214,  444,  555])"
      ]
     },
     "execution_count": 59,
     "metadata": {},
     "output_type": "execute_result"
    }
   ],
   "source": [
    "a.flatten()"
   ]
  },
  {
   "cell_type": "code",
   "execution_count": 65,
   "id": "7b0cdbe3",
   "metadata": {
    "ExecuteTime": {
     "end_time": "2021-09-13T02:51:54.604124Z",
     "start_time": "2021-09-13T02:51:54.588182Z"
    }
   },
   "outputs": [
    {
     "data": {
      "text/plain": [
       "array([[ 123,  456,  678],\n",
       "       [3214,  444,  555]])"
      ]
     },
     "execution_count": 65,
     "metadata": {},
     "output_type": "execute_result"
    }
   ],
   "source": [
    "a\n"
   ]
  },
  {
   "cell_type": "code",
   "execution_count": 66,
   "id": "1c76c7f9",
   "metadata": {
    "ExecuteTime": {
     "end_time": "2021-09-13T02:52:06.236355Z",
     "start_time": "2021-09-13T02:52:06.228357Z"
    }
   },
   "outputs": [
    {
     "data": {
      "text/plain": [
       "(2, 3)"
      ]
     },
     "execution_count": 66,
     "metadata": {},
     "output_type": "execute_result"
    }
   ],
   "source": [
    "#a.shape"
   ]
  },
  {
   "cell_type": "code",
   "execution_count": 64,
   "id": "b6b35394",
   "metadata": {
    "ExecuteTime": {
     "end_time": "2021-09-13T02:51:50.759094Z",
     "start_time": "2021-09-13T02:51:50.748235Z"
    }
   },
   "outputs": [
    {
     "data": {
      "text/plain": [
       "array([ 123,  456,  678, 3214,  444,  555])"
      ]
     },
     "execution_count": 64,
     "metadata": {},
     "output_type": "execute_result"
    }
   ],
   "source": [
    "a.ravel()"
   ]
  },
  {
   "cell_type": "code",
   "execution_count": 67,
   "id": "06236d4a",
   "metadata": {
    "ExecuteTime": {
     "end_time": "2021-09-13T02:52:57.498102Z",
     "start_time": "2021-09-13T02:52:57.490109Z"
    }
   },
   "outputs": [
    {
     "data": {
      "text/plain": [
       "(6,)"
      ]
     },
     "execution_count": 67,
     "metadata": {},
     "output_type": "execute_result"
    }
   ],
   "source": [
    "#a.ravel().shape"
   ]
  },
  {
   "cell_type": "code",
   "execution_count": 68,
   "id": "d47b0207",
   "metadata": {
    "ExecuteTime": {
     "end_time": "2021-09-13T02:53:47.488719Z",
     "start_time": "2021-09-13T02:53:47.480724Z"
    }
   },
   "outputs": [],
   "source": [
    "# P8课"
   ]
  },
  {
   "cell_type": "code",
   "execution_count": null,
   "id": "88a855c8",
   "metadata": {},
   "outputs": [],
   "source": []
  }
 ],
 "metadata": {
  "kernelspec": {
   "display_name": "Python 3",
   "language": "python",
   "name": "python3"
  },
  "language_info": {
   "codemirror_mode": {
    "name": "ipython",
    "version": 3
   },
   "file_extension": ".py",
   "mimetype": "text/x-python",
   "name": "python",
   "nbconvert_exporter": "python",
   "pygments_lexer": "ipython3",
   "version": "3.8.8"
  },
  "toc": {
   "base_numbering": 1,
   "nav_menu": {},
   "number_sections": true,
   "sideBar": true,
   "skip_h1_title": false,
   "title_cell": "Table of Contents",
   "title_sidebar": "Contents",
   "toc_cell": false,
   "toc_position": {},
   "toc_section_display": true,
   "toc_window_display": false
  },
  "varInspector": {
   "cols": {
    "lenName": 16,
    "lenType": 16,
    "lenVar": 40
   },
   "kernels_config": {
    "python": {
     "delete_cmd_postfix": "",
     "delete_cmd_prefix": "del ",
     "library": "var_list.py",
     "varRefreshCmd": "print(var_dic_list())"
    },
    "r": {
     "delete_cmd_postfix": ") ",
     "delete_cmd_prefix": "rm(",
     "library": "var_list.r",
     "varRefreshCmd": "cat(var_dic_list()) "
    }
   },
   "types_to_exclude": [
    "module",
    "function",
    "builtin_function_or_method",
    "instance",
    "_Feature"
   ],
   "window_display": false
  }
 },
 "nbformat": 4,
 "nbformat_minor": 5
}
