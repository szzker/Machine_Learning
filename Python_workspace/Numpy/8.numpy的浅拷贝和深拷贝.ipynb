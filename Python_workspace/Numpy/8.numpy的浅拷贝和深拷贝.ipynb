{
 "cells": [
  {
   "cell_type": "markdown",
   "id": "ae5e9737",
   "metadata": {},
   "source": [
    "# arr_1和arr_2共享一块内存  浅拷贝"
   ]
  },
  {
   "cell_type": "code",
   "execution_count": 1,
   "id": "b6e694bf",
   "metadata": {
    "ExecuteTime": {
     "end_time": "2021-09-09T11:08:13.547047Z",
     "start_time": "2021-09-09T11:08:13.534055Z"
    }
   },
   "outputs": [],
   "source": [
    "import numpy as np"
   ]
  },
  {
   "cell_type": "code",
   "execution_count": 2,
   "id": "2a7fc563",
   "metadata": {
    "ExecuteTime": {
     "end_time": "2021-09-09T11:08:40.987657Z",
     "start_time": "2021-09-09T11:08:40.981661Z"
    }
   },
   "outputs": [],
   "source": [
    "arr_1 = np.array([1,2,3])"
   ]
  },
  {
   "cell_type": "code",
   "execution_count": 3,
   "id": "b4c55b16",
   "metadata": {
    "ExecuteTime": {
     "end_time": "2021-09-09T11:08:52.448929Z",
     "start_time": "2021-09-09T11:08:52.439934Z"
    }
   },
   "outputs": [],
   "source": [
    "arr_2 = arr_1"
   ]
  },
  {
   "cell_type": "code",
   "execution_count": 4,
   "id": "91e1eed8",
   "metadata": {
    "ExecuteTime": {
     "end_time": "2021-09-09T11:10:25.682308Z",
     "start_time": "2021-09-09T11:10:25.675310Z"
    }
   },
   "outputs": [],
   "source": [
    "arr_2[0] = 5"
   ]
  },
  {
   "cell_type": "code",
   "execution_count": 5,
   "id": "dbbb5c97",
   "metadata": {
    "ExecuteTime": {
     "end_time": "2021-09-09T11:10:34.391972Z",
     "start_time": "2021-09-09T11:10:34.383991Z"
    }
   },
   "outputs": [
    {
     "name": "stdout",
     "output_type": "stream",
     "text": [
      "[5 2 3]\n"
     ]
    }
   ],
   "source": [
    "print(arr_1)"
   ]
  },
  {
   "cell_type": "code",
   "execution_count": 6,
   "id": "871cb562",
   "metadata": {
    "ExecuteTime": {
     "end_time": "2021-09-09T11:10:52.936649Z",
     "start_time": "2021-09-09T11:10:52.921597Z"
    }
   },
   "outputs": [
    {
     "name": "stdout",
     "output_type": "stream",
     "text": [
      "[5 2 3]\n"
     ]
    }
   ],
   "source": [
    "print(arr_2)"
   ]
  },
  {
   "cell_type": "markdown",
   "id": "8d299965",
   "metadata": {},
   "source": [
    "# 使用copy()方法进行深拷贝"
   ]
  },
  {
   "cell_type": "code",
   "execution_count": 9,
   "id": "4e48b5f6",
   "metadata": {
    "ExecuteTime": {
     "end_time": "2021-09-09T11:12:52.145122Z",
     "start_time": "2021-09-09T11:12:52.142123Z"
    }
   },
   "outputs": [],
   "source": [
    "arr_3 = arr_1.copy()"
   ]
  },
  {
   "cell_type": "code",
   "execution_count": null,
   "id": "7add0272",
   "metadata": {},
   "outputs": [],
   "source": []
  },
  {
   "cell_type": "code",
   "execution_count": null,
   "id": "2f0f61bc",
   "metadata": {},
   "outputs": [],
   "source": []
  },
  {
   "cell_type": "code",
   "execution_count": null,
   "id": "04c38d4d",
   "metadata": {},
   "outputs": [],
   "source": []
  }
 ],
 "metadata": {
  "kernelspec": {
   "display_name": "Python 3",
   "language": "python",
   "name": "python3"
  },
  "language_info": {
   "codemirror_mode": {
    "name": "ipython",
    "version": 3
   },
   "file_extension": ".py",
   "mimetype": "text/x-python",
   "name": "python",
   "nbconvert_exporter": "python",
   "pygments_lexer": "ipython3",
   "version": "3.8.8"
  },
  "toc": {
   "base_numbering": 1,
   "nav_menu": {},
   "number_sections": true,
   "sideBar": true,
   "skip_h1_title": false,
   "title_cell": "Table of Contents",
   "title_sidebar": "Contents",
   "toc_cell": false,
   "toc_position": {},
   "toc_section_display": true,
   "toc_window_display": false
  },
  "varInspector": {
   "cols": {
    "lenName": 16,
    "lenType": 16,
    "lenVar": 40
   },
   "kernels_config": {
    "python": {
     "delete_cmd_postfix": "",
     "delete_cmd_prefix": "del ",
     "library": "var_list.py",
     "varRefreshCmd": "print(var_dic_list())"
    },
    "r": {
     "delete_cmd_postfix": ") ",
     "delete_cmd_prefix": "rm(",
     "library": "var_list.r",
     "varRefreshCmd": "cat(var_dic_list()) "
    }
   },
   "types_to_exclude": [
    "module",
    "function",
    "builtin_function_or_method",
    "instance",
    "_Feature"
   ],
   "window_display": false
  }
 },
 "nbformat": 4,
 "nbformat_minor": 5
}
