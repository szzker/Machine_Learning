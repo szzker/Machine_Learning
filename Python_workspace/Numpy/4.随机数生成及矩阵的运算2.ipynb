{
 "cells": [
  {
   "cell_type": "code",
   "execution_count": 1,
   "id": "34407a7b",
   "metadata": {
    "ExecuteTime": {
     "end_time": "2021-09-08T12:57:50.289433Z",
     "start_time": "2021-09-08T12:57:50.277455Z"
    }
   },
   "outputs": [],
   "source": [
    "import numpy as np"
   ]
  },
  {
   "cell_type": "markdown",
   "id": "78f9bc4a",
   "metadata": {},
   "source": [
    "# numpy生成0到1的随机数数组 .random.random( (a,b) )"
   ]
  },
  {
   "cell_type": "code",
   "execution_count": 3,
   "id": "ae6c96da",
   "metadata": {
    "ExecuteTime": {
     "end_time": "2021-09-09T02:49:33.455143Z",
     "start_time": "2021-09-09T02:49:33.416329Z"
    }
   },
   "outputs": [
    {
     "name": "stdout",
     "output_type": "stream",
     "text": [
      "[[0.12796212 0.70735022]\n",
      " [0.92873313 0.44114069]\n",
      " [0.52829167 0.01924996]]\n"
     ]
    }
   ],
   "source": [
    "sample_1 = np.random.random((3,2))  #0到1的随机数\n",
    "print(sample_1)"
   ]
  },
  {
   "cell_type": "markdown",
   "id": "2e3ebc22",
   "metadata": {},
   "source": [
    "# 生成符合正态分布的随机数 .random.normal( size=(a,b) )"
   ]
  },
  {
   "cell_type": "code",
   "execution_count": 10,
   "id": "5ac0216c",
   "metadata": {
    "ExecuteTime": {
     "end_time": "2021-09-08T13:10:51.681202Z",
     "start_time": "2021-09-08T13:10:51.664136Z"
    }
   },
   "outputs": [
    {
     "name": "stdout",
     "output_type": "stream",
     "text": [
      "2.2623095542271807\n"
     ]
    }
   ],
   "source": [
    "sample_2 = np.random.normal()  #生成符合标准正态分布的随机数\n",
    "print(sample_2)"
   ]
  },
  {
   "cell_type": "code",
   "execution_count": 11,
   "id": "56a1a17f",
   "metadata": {
    "ExecuteTime": {
     "end_time": "2021-09-08T13:11:32.059272Z",
     "start_time": "2021-09-08T13:11:32.055286Z"
    }
   },
   "outputs": [
    {
     "name": "stdout",
     "output_type": "stream",
     "text": [
      "[[-0.59366033 -0.52711003]\n",
      " [ 0.33191856  1.18146973]\n",
      " [ 0.9903453   1.8570276 ]]\n"
     ]
    }
   ],
   "source": [
    "sample_2 = np.random.normal(size=(3,2))  #生成符合标准正态分布的随机数\n",
    "print(sample_2)"
   ]
  },
  {
   "cell_type": "markdown",
   "id": "410b4ac4",
   "metadata": {},
   "source": [
    "# 生成随机整数 .random.randint(x,y,size=(a,b))"
   ]
  },
  {
   "cell_type": "code",
   "execution_count": 1,
   "id": "4ef4d247",
   "metadata": {
    "ExecuteTime": {
     "end_time": "2021-09-09T02:47:18.598268Z",
     "start_time": "2021-09-09T02:47:18.536189Z"
    }
   },
   "outputs": [
    {
     "name": "stdout",
     "output_type": "stream",
     "text": [
      "[[9 8]\n",
      " [0 7]\n",
      " [4 6]]\n"
     ]
    }
   ],
   "source": [
    "sample_3 = np.random.randint(0,10,size=(3,2))  #生成0到10的随机整数\n",
    "print(sample_3)"
   ]
  },
  {
   "cell_type": "markdown",
   "id": "2418f375",
   "metadata": {},
   "source": [
    "# 求和 将数组中所有元素相加"
   ]
  },
  {
   "cell_type": "code",
   "execution_count": 11,
   "id": "928021a4",
   "metadata": {
    "ExecuteTime": {
     "end_time": "2021-09-09T02:58:10.527706Z",
     "start_time": "2021-09-09T02:58:10.512715Z"
    }
   },
   "outputs": [
    {
     "data": {
      "text/plain": [
       "2.752727791595753"
      ]
     },
     "execution_count": 11,
     "metadata": {},
     "output_type": "execute_result"
    }
   ],
   "source": [
    "np.sum(sample_1)"
   ]
  },
  {
   "cell_type": "code",
   "execution_count": 14,
   "id": "7ae9791b",
   "metadata": {
    "ExecuteTime": {
     "end_time": "2021-09-09T02:59:24.836853Z",
     "start_time": "2021-09-09T02:59:24.826857Z"
    }
   },
   "outputs": [
    {
     "data": {
      "text/plain": [
       "array([1.58498692, 1.16774087])"
      ]
     },
     "execution_count": 14,
     "metadata": {},
     "output_type": "execute_result"
    }
   ],
   "source": [
    "#对列求和 axis=0\n",
    "np.sum(sample_1,axis=0)"
   ]
  },
  {
   "cell_type": "code",
   "execution_count": 16,
   "id": "f3c02df7",
   "metadata": {
    "ExecuteTime": {
     "end_time": "2021-09-09T03:00:37.951721Z",
     "start_time": "2021-09-09T03:00:37.941741Z"
    }
   },
   "outputs": [
    {
     "data": {
      "text/plain": [
       "array([0.83531234, 1.36987382, 0.54754163])"
      ]
     },
     "execution_count": 16,
     "metadata": {},
     "output_type": "execute_result"
    }
   ],
   "source": [
    "#对行求和 axis=1\n",
    "np.sum(sample_1,axis=1)"
   ]
  },
  {
   "cell_type": "markdown",
   "id": "d5490385",
   "metadata": {},
   "source": [
    "# 求元素的最小值和最大值"
   ]
  },
  {
   "cell_type": "code",
   "execution_count": 9,
   "id": "b2920f24",
   "metadata": {
    "ExecuteTime": {
     "end_time": "2021-09-09T02:55:40.916584Z",
     "start_time": "2021-09-09T02:55:40.899593Z"
    }
   },
   "outputs": [
    {
     "name": "stdout",
     "output_type": "stream",
     "text": [
      "0.019249960382873965\n",
      "\n",
      "\n",
      "0.9287331319712548\n"
     ]
    }
   ],
   "source": [
    "print(np.min(sample_1))\n",
    "\n",
    "print(\"\\n\")\n",
    "\n",
    "print(np.max(sample_1))"
   ]
  },
  {
   "cell_type": "markdown",
   "id": "6f0dad62",
   "metadata": {},
   "source": [
    "# 找数组中最小元素的索引 argmin()"
   ]
  },
  {
   "cell_type": "code",
   "execution_count": 21,
   "id": "ff0a44c7",
   "metadata": {
    "ExecuteTime": {
     "end_time": "2021-09-09T03:15:10.871634Z",
     "start_time": "2021-09-09T03:15:10.860641Z"
    }
   },
   "outputs": [
    {
     "name": "stdout",
     "output_type": "stream",
     "text": [
      "[[0.12796212 0.70735022]\n",
      " [0.92873313 0.44114069]\n",
      " [0.52829167 0.01924996]]\n",
      "\n",
      "\n",
      "5\n"
     ]
    }
   ],
   "source": [
    "print(sample_1)\n",
    "\n",
    "print(\"\\n\")\n",
    "\n",
    "print(np.argmin(sample_1))"
   ]
  },
  {
   "cell_type": "markdown",
   "id": "85d8f8bb",
   "metadata": {},
   "source": [
    "# 找数组中最大元素的索引 argmax()"
   ]
  },
  {
   "cell_type": "code",
   "execution_count": 22,
   "id": "4df3d6a1",
   "metadata": {
    "ExecuteTime": {
     "end_time": "2021-09-09T03:16:19.593794Z",
     "start_time": "2021-09-09T03:16:19.582800Z"
    }
   },
   "outputs": [
    {
     "name": "stdout",
     "output_type": "stream",
     "text": [
      "[[0.12796212 0.70735022]\n",
      " [0.92873313 0.44114069]\n",
      " [0.52829167 0.01924996]]\n",
      "\n",
      "\n",
      "2\n"
     ]
    }
   ],
   "source": [
    "print(sample_1)\n",
    "\n",
    "print(\"\\n\")\n",
    "\n",
    "print(np.argmax(sample_1))"
   ]
  },
  {
   "cell_type": "markdown",
   "id": "146fe423",
   "metadata": {},
   "source": [
    "# 求平均值"
   ]
  },
  {
   "cell_type": "code",
   "execution_count": 28,
   "id": "0d9d99c5",
   "metadata": {
    "ExecuteTime": {
     "end_time": "2021-09-09T03:19:54.506290Z",
     "start_time": "2021-09-09T03:19:54.499300Z"
    }
   },
   "outputs": [
    {
     "name": "stdout",
     "output_type": "stream",
     "text": [
      "0.45878796526595883\n"
     ]
    }
   ],
   "source": [
    "print(np.mean(sample_1))  #使用np中的函数mean()"
   ]
  },
  {
   "cell_type": "code",
   "execution_count": 27,
   "id": "b5d73d25",
   "metadata": {
    "ExecuteTime": {
     "end_time": "2021-09-09T03:19:36.390574Z",
     "start_time": "2021-09-09T03:19:36.386580Z"
    }
   },
   "outputs": [
    {
     "name": "stdout",
     "output_type": "stream",
     "text": [
      "0.45878796526595883\n"
     ]
    }
   ],
   "source": [
    "print(sample_1.mean())  #使用mean()方法"
   ]
  },
  {
   "cell_type": "markdown",
   "id": "c8b91f43",
   "metadata": {},
   "source": [
    "# 求中位数 双数时：取中间两个数的平均值 单数时：取中间数"
   ]
  },
  {
   "cell_type": "code",
   "execution_count": 29,
   "id": "821f8c9c",
   "metadata": {
    "ExecuteTime": {
     "end_time": "2021-09-09T03:20:12.088237Z",
     "start_time": "2021-09-09T03:20:11.964258Z"
    }
   },
   "outputs": [
    {
     "data": {
      "text/plain": [
       "0.4847161793479178"
      ]
     },
     "execution_count": 29,
     "metadata": {},
     "output_type": "execute_result"
    }
   ],
   "source": [
    "np.median(sample_1)"
   ]
  },
  {
   "cell_type": "code",
   "execution_count": 31,
   "id": "bd1c6245",
   "metadata": {
    "ExecuteTime": {
     "end_time": "2021-09-09T03:22:50.718971Z",
     "start_time": "2021-09-09T03:22:50.712961Z"
    }
   },
   "outputs": [
    {
     "data": {
      "text/plain": [
       "3.0"
      ]
     },
     "execution_count": 31,
     "metadata": {},
     "output_type": "execute_result"
    }
   ],
   "source": [
    "test_arr = np.array([1,2,3,4,5])\n",
    "np.median(test_arr)"
   ]
  },
  {
   "cell_type": "markdown",
   "id": "220071e9",
   "metadata": {},
   "source": [
    "# 求数组中每个元素开方的结果"
   ]
  },
  {
   "cell_type": "code",
   "execution_count": 32,
   "id": "8b73b4a8",
   "metadata": {
    "ExecuteTime": {
     "end_time": "2021-09-09T03:23:33.489532Z",
     "start_time": "2021-09-09T03:23:33.482548Z"
    }
   },
   "outputs": [
    {
     "data": {
      "text/plain": [
       "array([1.        , 1.41421356, 1.73205081, 2.        , 2.23606798])"
      ]
     },
     "execution_count": 32,
     "metadata": {},
     "output_type": "execute_result"
    }
   ],
   "source": [
    "np.sqrt(test_arr)"
   ]
  },
  {
   "cell_type": "code",
   "execution_count": 41,
   "id": "149c4066",
   "metadata": {
    "ExecuteTime": {
     "end_time": "2021-09-09T03:27:29.936911Z",
     "start_time": "2021-09-09T03:27:29.932913Z"
    }
   },
   "outputs": [
    {
     "name": "stdout",
     "output_type": "stream",
     "text": [
      "[5 4 5 2 0 8 4 5 1 1]\n",
      "[[9 7 7 2 0 2 8 7 9 4]]\n"
     ]
    }
   ],
   "source": []
  },
  {
   "cell_type": "markdown",
   "id": "306f8f53",
   "metadata": {},
   "source": [
    "# 生成随机数，使用numpy中的sort()函数对随机数进行排序"
   ]
  },
  {
   "cell_type": "code",
   "execution_count": 43,
   "id": "d6923e77",
   "metadata": {
    "ExecuteTime": {
     "end_time": "2021-09-09T03:28:29.874004Z",
     "start_time": "2021-09-09T03:28:29.863010Z"
    }
   },
   "outputs": [
    {
     "name": "stdout",
     "output_type": "stream",
     "text": [
      "[2 6 4 9 4 5 9 5 6 9]\n",
      "[[7 7 5 8 5 9 9 8 4 7]]\n"
     ]
    },
    {
     "data": {
      "text/plain": [
       "array([[4, 5, 5, 7, 7, 7, 8, 8, 9, 9]])"
      ]
     },
     "execution_count": 43,
     "metadata": {},
     "output_type": "execute_result"
    }
   ],
   "source": [
    "sample_4 = np.random.randint(0,10,size=10)  #size = 10  [......]\n",
    "print(sample_4)\n",
    "\n",
    "sample_4 = np.random.randint(0,10,size=(1,10))  #size = (1,10)  [ [......] ]\n",
    "print(sample_4)\n",
    "\n",
    "np.sort(sample_4)"
   ]
  },
  {
   "cell_type": "code",
   "execution_count": 46,
   "id": "3d31fe22",
   "metadata": {
    "ExecuteTime": {
     "end_time": "2021-09-09T03:31:20.885187Z",
     "start_time": "2021-09-09T03:31:20.869210Z"
    }
   },
   "outputs": [
    {
     "name": "stdout",
     "output_type": "stream",
     "text": [
      "[[0.12796212 0.70735022]\n",
      " [0.92873313 0.44114069]\n",
      " [0.52829167 0.01924996]]\n"
     ]
    },
    {
     "data": {
      "text/plain": [
       "array([[0.12796212, 0.70735022],\n",
       "       [0.44114069, 0.92873313],\n",
       "       [0.01924996, 0.52829167]])"
      ]
     },
     "execution_count": 46,
     "metadata": {},
     "output_type": "execute_result"
    }
   ],
   "source": [
    "print(sample_1)\n",
    "np.sort(sample_1)  #默认axis = 1 对sample_1的每一行进行排序"
   ]
  },
  {
   "cell_type": "code",
   "execution_count": 63,
   "id": "bca4e47c",
   "metadata": {
    "ExecuteTime": {
     "end_time": "2021-09-09T08:02:17.370553Z",
     "start_time": "2021-09-09T08:02:17.362557Z"
    }
   },
   "outputs": [
    {
     "name": "stdout",
     "output_type": "stream",
     "text": [
      "[[0.75488722 0.42117512]\n",
      " [0.01494067 0.97745051]\n",
      " [0.05173242 0.84022814]]\n",
      "\n",
      "\n",
      "[[0.01494067 0.42117512]\n",
      " [0.05173242 0.84022814]\n",
      " [0.75488722 0.97745051]]\n",
      "\n",
      "\n",
      "[[0.75488722 0.42117512]\n",
      " [0.01494067 0.97745051]\n",
      " [0.05173242 0.84022814]]\n"
     ]
    }
   ],
   "source": [
    "sample_test = np.random.random((3, 2))\n",
    "print(sample_test)\n",
    "\n",
    "print(\"\\n\")\n",
    "\n",
    "print(np.sort(sample_test, axis=0))  #axis = 0 按列排序 axis = 1 按行排序\n",
    "\n",
    "print(\"\\n\")\n",
    "print(sample_test)"
   ]
  },
  {
   "cell_type": "markdown",
   "id": "924c73bb",
   "metadata": {},
   "source": [
    "# numpy的clip()函数"
   ]
  },
  {
   "cell_type": "code",
   "execution_count": 3,
   "id": "d09810c8",
   "metadata": {
    "ExecuteTime": {
     "end_time": "2021-09-09T08:06:27.382876Z",
     "start_time": "2021-09-09T08:06:27.374871Z"
    }
   },
   "outputs": [
    {
     "name": "stdout",
     "output_type": "stream",
     "text": [
      "[[9 2 5 9 9 5 0 6 3 9]]\n"
     ]
    },
    {
     "data": {
      "text/plain": [
       "array([[7, 2, 5, 7, 7, 5, 2, 6, 3, 7]])"
      ]
     },
     "execution_count": 3,
     "metadata": {},
     "output_type": "execute_result"
    }
   ],
   "source": [
    "sample_4 = np.random.randint(0,10,size=(1,10))  #size = (1,10)  [ [......] ]\n",
    "print(sample_4)\n",
    "\n",
    "np.clip(sample_4,2,7)#大于7的数变为7，小于2的数变为2"
   ]
  },
  {
   "cell_type": "code",
   "execution_count": null,
   "id": "d3dbbbf4",
   "metadata": {
    "ExecuteTime": {
     "end_time": "2021-09-09T08:00:59.348351Z",
     "start_time": "2021-09-09T08:00:59.329350Z"
    }
   },
   "outputs": [],
   "source": []
  },
  {
   "cell_type": "code",
   "execution_count": null,
   "id": "6c89453e",
   "metadata": {},
   "outputs": [],
   "source": []
  },
  {
   "cell_type": "code",
   "execution_count": null,
   "id": "1f13d843",
   "metadata": {},
   "outputs": [],
   "source": []
  },
  {
   "cell_type": "code",
   "execution_count": null,
   "id": "80805292",
   "metadata": {},
   "outputs": [],
   "source": []
  },
  {
   "cell_type": "code",
   "execution_count": null,
   "id": "9350e5a4",
   "metadata": {},
   "outputs": [],
   "source": []
  },
  {
   "cell_type": "code",
   "execution_count": null,
   "id": "84a8448c",
   "metadata": {},
   "outputs": [],
   "source": []
  }
 ],
 "metadata": {
  "kernelspec": {
   "display_name": "Python 3",
   "language": "python",
   "name": "python3"
  },
  "language_info": {
   "codemirror_mode": {
    "name": "ipython",
    "version": 3
   },
   "file_extension": ".py",
   "mimetype": "text/x-python",
   "name": "python",
   "nbconvert_exporter": "python",
   "pygments_lexer": "ipython3",
   "version": "3.8.8"
  },
  "toc": {
   "base_numbering": 1,
   "nav_menu": {},
   "number_sections": true,
   "sideBar": true,
   "skip_h1_title": false,
   "title_cell": "Table of Contents",
   "title_sidebar": "Contents",
   "toc_cell": false,
   "toc_position": {},
   "toc_section_display": true,
   "toc_window_display": false
  },
  "varInspector": {
   "cols": {
    "lenName": 16,
    "lenType": 16,
    "lenVar": 40
   },
   "kernels_config": {
    "python": {
     "delete_cmd_postfix": "",
     "delete_cmd_prefix": "del ",
     "library": "var_list.py",
     "varRefreshCmd": "print(var_dic_list())"
    },
    "r": {
     "delete_cmd_postfix": ") ",
     "delete_cmd_prefix": "rm(",
     "library": "var_list.r",
     "varRefreshCmd": "cat(var_dic_list()) "
    }
   },
   "types_to_exclude": [
    "module",
    "function",
    "builtin_function_or_method",
    "instance",
    "_Feature"
   ],
   "window_display": false
  }
 },
 "nbformat": 4,
 "nbformat_minor": 5
}
