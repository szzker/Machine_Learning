{
 "cells": [
  {
   "cell_type": "markdown",
   "id": "c59ac846",
   "metadata": {},
   "source": [
    "# 创建不同维度的array 数组"
   ]
  },
  {
   "cell_type": "code",
   "execution_count": 1,
   "id": "f057d6b1",
   "metadata": {
    "ExecuteTime": {
     "end_time": "2021-09-08T11:30:14.171508Z",
     "start_time": "2021-09-08T11:30:14.160499Z"
    }
   },
   "outputs": [],
   "source": [
    "import numpy as np"
   ]
  },
  {
   "cell_type": "code",
   "execution_count": 9,
   "id": "c9520ddd",
   "metadata": {
    "ExecuteTime": {
     "end_time": "2021-09-08T11:34:52.676783Z",
     "start_time": "2021-09-08T11:34:52.669787Z"
    }
   },
   "outputs": [
    {
     "name": "stdout",
     "output_type": "stream",
     "text": [
      "int32\n"
     ]
    }
   ],
   "source": [
    "a = np.array([1,2,3],dtype = int)#一维数组，数据类型为int32\n",
    "print(a.dtype)"
   ]
  },
  {
   "cell_type": "code",
   "execution_count": 8,
   "id": "890c97f7",
   "metadata": {
    "ExecuteTime": {
     "end_time": "2021-09-08T11:34:45.461759Z",
     "start_time": "2021-09-08T11:34:45.449766Z"
    }
   },
   "outputs": [
    {
     "name": "stdout",
     "output_type": "stream",
     "text": [
      "float64\n"
     ]
    }
   ],
   "source": [
    "b = np.array([1,2,3],dtype = float)\n",
    "print(b.dtype)"
   ]
  },
  {
   "cell_type": "code",
   "execution_count": 10,
   "id": "0f51070e",
   "metadata": {
    "ExecuteTime": {
     "end_time": "2021-09-08T11:36:08.604114Z",
     "start_time": "2021-09-08T11:36:08.597130Z"
    }
   },
   "outputs": [
    {
     "name": "stdout",
     "output_type": "stream",
     "text": [
      "[1 2 3]\n"
     ]
    }
   ],
   "source": [
    "c = np.array([1,2,3])\n",
    "print(c)"
   ]
  },
  {
   "cell_type": "code",
   "execution_count": 11,
   "id": "8fc0b734",
   "metadata": {
    "ExecuteTime": {
     "end_time": "2021-09-08T11:36:58.702072Z",
     "start_time": "2021-09-08T11:36:58.684069Z"
    }
   },
   "outputs": [
    {
     "name": "stdout",
     "output_type": "stream",
     "text": [
      "[[1 2 3]\n",
      " [4 5 6]]\n"
     ]
    }
   ],
   "source": [
    "d = np.array([[1,2,3],\n",
    "              [4,5,6]])\n",
    "print(d)"
   ]
  },
  {
   "cell_type": "markdown",
   "id": "c6db8550",
   "metadata": {},
   "source": [
    "# 生成全为0的数组"
   ]
  },
  {
   "cell_type": "code",
   "execution_count": 12,
   "id": "ead51991",
   "metadata": {
    "ExecuteTime": {
     "end_time": "2021-09-08T11:39:25.767598Z",
     "start_time": "2021-09-08T11:39:25.750620Z"
    }
   },
   "outputs": [
    {
     "name": "stdout",
     "output_type": "stream",
     "text": [
      "[[0. 0. 0.]\n",
      " [0. 0. 0.]]\n"
     ]
    }
   ],
   "source": [
    "zero = np.zeros((2,3))#2行3列\n",
    "print(zero)"
   ]
  },
  {
   "cell_type": "markdown",
   "id": "13bdb088",
   "metadata": {},
   "source": [
    "# 生成全为1的数组"
   ]
  },
  {
   "cell_type": "code",
   "execution_count": 13,
   "id": "e95f0ae3",
   "metadata": {
    "ExecuteTime": {
     "end_time": "2021-09-08T11:40:03.905807Z",
     "start_time": "2021-09-08T11:40:03.890830Z"
    }
   },
   "outputs": [
    {
     "name": "stdout",
     "output_type": "stream",
     "text": [
      "[[1. 1. 1. 1.]\n",
      " [1. 1. 1. 1.]\n",
      " [1. 1. 1. 1.]]\n"
     ]
    }
   ],
   "source": [
    "one = np.ones((3,4))\n",
    "print(one)"
   ]
  },
  {
   "cell_type": "code",
   "execution_count": 14,
   "id": "f52686c2",
   "metadata": {
    "ExecuteTime": {
     "end_time": "2021-09-08T11:41:05.641811Z",
     "start_time": "2021-09-08T11:41:05.291462Z"
    }
   },
   "outputs": [
    {
     "ename": "AttributeError",
     "evalue": "module 'numpy' has no attribute 'twos'",
     "output_type": "error",
     "traceback": [
      "\u001b[1;31m---------------------------------------------------------------------------\u001b[0m",
      "\u001b[1;31mAttributeError\u001b[0m                            Traceback (most recent call last)",
      "\u001b[1;32m<ipython-input-14-f34d97319eb3>\u001b[0m in \u001b[0;36m<module>\u001b[1;34m\u001b[0m\n\u001b[1;32m----> 1\u001b[1;33m \u001b[0mtwo\u001b[0m \u001b[1;33m=\u001b[0m \u001b[0mnp\u001b[0m\u001b[1;33m.\u001b[0m\u001b[0mtwos\u001b[0m\u001b[1;33m(\u001b[0m\u001b[1;33m(\u001b[0m\u001b[1;36m5\u001b[0m\u001b[1;33m,\u001b[0m\u001b[1;36m5\u001b[0m\u001b[1;33m)\u001b[0m\u001b[1;33m)\u001b[0m\u001b[1;33m\u001b[0m\u001b[1;33m\u001b[0m\u001b[0m\n\u001b[0m\u001b[0;32m      2\u001b[0m \u001b[0mprint\u001b[0m\u001b[1;33m(\u001b[0m\u001b[0mtwo\u001b[0m\u001b[1;33m)\u001b[0m\u001b[1;33m\u001b[0m\u001b[1;33m\u001b[0m\u001b[0m\n",
      "\u001b[1;32mE:\\Python_Anaconda\\lib\\site-packages\\numpy\\__init__.py\u001b[0m in \u001b[0;36m__getattr__\u001b[1;34m(attr)\u001b[0m\n\u001b[0;32m    301\u001b[0m                 \u001b[1;32mreturn\u001b[0m \u001b[0mTester\u001b[0m\u001b[1;33m\u001b[0m\u001b[1;33m\u001b[0m\u001b[0m\n\u001b[0;32m    302\u001b[0m \u001b[1;33m\u001b[0m\u001b[0m\n\u001b[1;32m--> 303\u001b[1;33m             raise AttributeError(\"module {!r} has no attribute \"\n\u001b[0m\u001b[0;32m    304\u001b[0m                                  \"{!r}\".format(__name__, attr))\n\u001b[0;32m    305\u001b[0m \u001b[1;33m\u001b[0m\u001b[0m\n",
      "\u001b[1;31mAttributeError\u001b[0m: module 'numpy' has no attribute 'twos'"
     ]
    }
   ],
   "source": [
    "two = np.twos((5,5))\n",
    "print(two)"
   ]
  },
  {
   "cell_type": "code",
   "execution_count": 35,
   "id": "b47426c4",
   "metadata": {
    "ExecuteTime": {
     "end_time": "2021-09-08T12:12:11.872779Z",
     "start_time": "2021-09-08T12:12:11.860799Z"
    }
   },
   "outputs": [
    {
     "name": "stdout",
     "output_type": "stream",
     "text": [
      "[[0. 0. 0.]\n",
      " [0. 0. 0.]]\n"
     ]
    }
   ],
   "source": [
    "empty = np.empty((2,3))#生成的数组中的值接近于0但不等于0\n",
    "print(empty)"
   ]
  },
  {
   "cell_type": "code",
   "execution_count": 19,
   "id": "63eea7ec",
   "metadata": {
    "ExecuteTime": {
     "end_time": "2021-09-08T11:43:35.881794Z",
     "start_time": "2021-09-08T11:43:35.843032Z"
    }
   },
   "outputs": [
    {
     "name": "stderr",
     "output_type": "stream",
     "text": [
      "<ipython-input-19-fa2b823379d6>:1: RuntimeWarning: divide by zero encountered in double_scalars\n",
      "  5 / empty[0][0]\n"
     ]
    },
    {
     "data": {
      "text/plain": [
       "inf"
      ]
     },
     "execution_count": 19,
     "metadata": {},
     "output_type": "execute_result"
    }
   ],
   "source": [
    "5 / empty[0][0]  #正负无穷inf"
   ]
  },
  {
   "cell_type": "code",
   "execution_count": 20,
   "id": "05d34d43",
   "metadata": {
    "ExecuteTime": {
     "end_time": "2021-09-08T11:48:05.870141Z",
     "start_time": "2021-09-08T11:48:05.861147Z"
    }
   },
   "outputs": [
    {
     "name": "stderr",
     "output_type": "stream",
     "text": [
      "<ipython-input-20-3e2157282303>:1: RuntimeWarning: divide by zero encountered in double_scalars\n",
      "  5 / zero[0][0]\n"
     ]
    },
    {
     "data": {
      "text/plain": [
       "inf"
      ]
     },
     "execution_count": 20,
     "metadata": {},
     "output_type": "execute_result"
    }
   ],
   "source": [
    "5 / zero[0][0]"
   ]
  },
  {
   "cell_type": "markdown",
   "id": "d97090b1",
   "metadata": {},
   "source": [
    "# 生成0到9的一维数组  arange()函数"
   ]
  },
  {
   "cell_type": "code",
   "execution_count": 24,
   "id": "19f4b5db",
   "metadata": {
    "ExecuteTime": {
     "end_time": "2021-09-08T11:51:05.956048Z",
     "start_time": "2021-09-08T11:51:05.941059Z"
    }
   },
   "outputs": [
    {
     "name": "stdout",
     "output_type": "stream",
     "text": [
      "[0 1 2 3 4 5 6 7 8 9]\n"
     ]
    }
   ],
   "source": [
    "e = np.arange(10)\n",
    "print(e)"
   ]
  },
  {
   "cell_type": "code",
   "execution_count": 25,
   "id": "5f34a441",
   "metadata": {
    "ExecuteTime": {
     "end_time": "2021-09-08T11:51:29.245543Z",
     "start_time": "2021-09-08T11:51:29.235549Z"
    }
   },
   "outputs": [
    {
     "name": "stdout",
     "output_type": "stream",
     "text": [
      "[ 4  5  6  7  8  9 10 11]\n"
     ]
    }
   ],
   "source": [
    "f = np.arange(4,12)\n",
    "print(f)"
   ]
  },
  {
   "cell_type": "code",
   "execution_count": 32,
   "id": "c1f32aac",
   "metadata": {
    "ExecuteTime": {
     "end_time": "2021-09-08T11:56:15.229782Z",
     "start_time": "2021-09-08T11:56:15.218598Z"
    }
   },
   "outputs": [
    {
     "name": "stdout",
     "output_type": "stream",
     "text": [
      "[ 1  4  7 10 13 16 19]\n"
     ]
    }
   ],
   "source": [
    "g = np.arange(1,20,3)  #步长为3\n",
    "print(g)"
   ]
  },
  {
   "cell_type": "markdown",
   "id": "af91da31",
   "metadata": {},
   "source": [
    "# reshape()函数 重新定义数组的形状"
   ]
  },
  {
   "cell_type": "code",
   "execution_count": 34,
   "id": "0ef88239",
   "metadata": {
    "ExecuteTime": {
     "end_time": "2021-09-08T11:59:23.034332Z",
     "start_time": "2021-09-08T11:59:23.024325Z"
    }
   },
   "outputs": [
    {
     "name": "stdout",
     "output_type": "stream",
     "text": [
      "[[0 1]\n",
      " [2 3]\n",
      " [4 5]\n",
      " [6 7]]\n"
     ]
    }
   ],
   "source": [
    "h = np.arange(8).reshape(4,2)  #np.arange(8) 生成0到7的一维数组 reshape(2,4)变换为2行4列的2维数组\n",
    "print(h)"
   ]
  },
  {
   "cell_type": "code",
   "execution_count": null,
   "id": "34057027",
   "metadata": {},
   "outputs": [],
   "source": []
  },
  {
   "cell_type": "code",
   "execution_count": null,
   "id": "b4aee41d",
   "metadata": {},
   "outputs": [],
   "source": []
  },
  {
   "cell_type": "code",
   "execution_count": null,
   "id": "6babe89c",
   "metadata": {},
   "outputs": [],
   "source": []
  },
  {
   "cell_type": "code",
   "execution_count": null,
   "id": "5ee41ba4",
   "metadata": {},
   "outputs": [],
   "source": []
  }
 ],
 "metadata": {
  "kernelspec": {
   "display_name": "Python 3",
   "language": "python",
   "name": "python3"
  },
  "language_info": {
   "codemirror_mode": {
    "name": "ipython",
    "version": 3
   },
   "file_extension": ".py",
   "mimetype": "text/x-python",
   "name": "python",
   "nbconvert_exporter": "python",
   "pygments_lexer": "ipython3",
   "version": "3.8.8"
  },
  "toc": {
   "base_numbering": 1,
   "nav_menu": {},
   "number_sections": true,
   "sideBar": true,
   "skip_h1_title": false,
   "title_cell": "Table of Contents",
   "title_sidebar": "Contents",
   "toc_cell": false,
   "toc_position": {},
   "toc_section_display": true,
   "toc_window_display": false
  },
  "varInspector": {
   "cols": {
    "lenName": 16,
    "lenType": 16,
    "lenVar": 40
   },
   "kernels_config": {
    "python": {
     "delete_cmd_postfix": "",
     "delete_cmd_prefix": "del ",
     "library": "var_list.py",
     "varRefreshCmd": "print(var_dic_list())"
    },
    "r": {
     "delete_cmd_postfix": ") ",
     "delete_cmd_prefix": "rm(",
     "library": "var_list.r",
     "varRefreshCmd": "cat(var_dic_list()) "
    }
   },
   "types_to_exclude": [
    "module",
    "function",
    "builtin_function_or_method",
    "instance",
    "_Feature"
   ],
   "window_display": false
  }
 },
 "nbformat": 4,
 "nbformat_minor": 5
}
