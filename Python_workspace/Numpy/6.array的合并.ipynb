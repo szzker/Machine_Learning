{
 "cells": [
  {
   "cell_type": "code",
   "execution_count": 1,
   "id": "ac49a8fb",
   "metadata": {
    "ExecuteTime": {
     "end_time": "2021-09-09T08:45:29.270397Z",
     "start_time": "2021-09-09T08:45:29.255406Z"
    }
   },
   "outputs": [],
   "source": [
    "import numpy as np"
   ]
  },
  {
   "cell_type": "markdown",
   "id": "1372eb28",
   "metadata": {},
   "source": [
    "# 使用vstack()函数进行垂直合并 vstack( (arr_1,arr_2) )"
   ]
  },
  {
   "cell_type": "code",
   "execution_count": 5,
   "id": "7eb7ddfa",
   "metadata": {
    "ExecuteTime": {
     "end_time": "2021-09-09T08:50:38.461622Z",
     "start_time": "2021-09-09T08:50:38.450629Z"
    }
   },
   "outputs": [
    {
     "name": "stdout",
     "output_type": "stream",
     "text": [
      "[[1 2 3]\n",
      " [4 5 6]]\n"
     ]
    }
   ],
   "source": [
    "arr_1 = np.array([1,2,3])\n",
    "arr_2 = np.array([4,5,6])\n",
    "arr_3 = np.vstack((arr_1,arr_2))\n",
    "print(arr_3)"
   ]
  },
  {
   "cell_type": "markdown",
   "id": "f0e8e357",
   "metadata": {},
   "source": [
    "# 使用.shape查看形状属性"
   ]
  },
  {
   "cell_type": "code",
   "execution_count": 6,
   "id": "81645450",
   "metadata": {
    "ExecuteTime": {
     "end_time": "2021-09-09T08:50:41.762678Z",
     "start_time": "2021-09-09T08:50:41.753685Z"
    }
   },
   "outputs": [
    {
     "name": "stdout",
     "output_type": "stream",
     "text": [
      "(2, 3)\n"
     ]
    }
   ],
   "source": [
    "print(arr_3.shape)"
   ]
  },
  {
   "cell_type": "code",
   "execution_count": 7,
   "id": "0e8a611e",
   "metadata": {
    "ExecuteTime": {
     "end_time": "2021-09-09T08:52:23.051739Z",
     "start_time": "2021-09-09T08:52:23.037735Z"
    }
   },
   "outputs": [
    {
     "name": "stdout",
     "output_type": "stream",
     "text": [
      "(4,)\n"
     ]
    }
   ],
   "source": [
    "arr_0 = np.array([1,1,2,5])\n",
    "print(arr_0.shape)"
   ]
  },
  {
   "cell_type": "markdown",
   "id": "c7e315b1",
   "metadata": {},
   "source": [
    "# 使用hstack()函数对数组进行水平的合并"
   ]
  },
  {
   "cell_type": "code",
   "execution_count": 8,
   "id": "3eb1a8ef",
   "metadata": {
    "ExecuteTime": {
     "end_time": "2021-09-09T08:54:22.865120Z",
     "start_time": "2021-09-09T08:54:22.857125Z"
    }
   },
   "outputs": [
    {
     "name": "stdout",
     "output_type": "stream",
     "text": [
      "[1 2 3 4 5 6]\n",
      "(6,)\n"
     ]
    }
   ],
   "source": [
    "arr_4 = np.hstack((arr_1,arr_2))\n",
    "print(arr_4)\n",
    "print(arr_4.shape)"
   ]
  },
  {
   "cell_type": "markdown",
   "id": "a72f481b",
   "metadata": {},
   "source": [
    "# 对多个数组进行合并"
   ]
  },
  {
   "cell_type": "code",
   "execution_count": 9,
   "id": "e53efc89",
   "metadata": {
    "ExecuteTime": {
     "end_time": "2021-09-09T08:55:45.157604Z",
     "start_time": "2021-09-09T08:55:45.144611Z"
    }
   },
   "outputs": [
    {
     "name": "stdout",
     "output_type": "stream",
     "text": [
      "[[1 2 3]\n",
      " [4 5 6]\n",
      " [1 2 3]\n",
      " [4 5 6]]\n"
     ]
    }
   ],
   "source": [
    "print(np.vstack((arr_1,arr_2,arr_3)))"
   ]
  },
  {
   "cell_type": "code",
   "execution_count": 17,
   "id": "bc8f5a4f",
   "metadata": {
    "ExecuteTime": {
     "end_time": "2021-09-09T09:01:27.369512Z",
     "start_time": "2021-09-09T09:01:27.357532Z"
    }
   },
   "outputs": [
    {
     "ename": "ValueError",
     "evalue": "all the input arrays must have same number of dimensions, but the array at index 0 has 1 dimension(s) and the array at index 2 has 2 dimension(s)",
     "output_type": "error",
     "traceback": [
      "\u001b[1;31m---------------------------------------------------------------------------\u001b[0m",
      "\u001b[1;31mValueError\u001b[0m                                Traceback (most recent call last)",
      "\u001b[1;32m<ipython-input-17-acda8d142896>\u001b[0m in \u001b[0;36m<module>\u001b[1;34m\u001b[0m\n\u001b[1;32m----> 1\u001b[1;33m \u001b[0mprint\u001b[0m\u001b[1;33m(\u001b[0m\u001b[0mnp\u001b[0m\u001b[1;33m.\u001b[0m\u001b[0mhstack\u001b[0m\u001b[1;33m(\u001b[0m\u001b[1;33m(\u001b[0m\u001b[0marr_1\u001b[0m\u001b[1;33m,\u001b[0m\u001b[0marr_2\u001b[0m\u001b[1;33m,\u001b[0m\u001b[0marr_3\u001b[0m\u001b[1;33m)\u001b[0m\u001b[1;33m)\u001b[0m\u001b[1;33m)\u001b[0m  \u001b[1;31m#横向合并时，形状不匹配\u001b[0m\u001b[1;33m\u001b[0m\u001b[1;33m\u001b[0m\u001b[0m\n\u001b[0m",
      "\u001b[1;32m<__array_function__ internals>\u001b[0m in \u001b[0;36mhstack\u001b[1;34m(*args, **kwargs)\u001b[0m\n",
      "\u001b[1;32mE:\\Python_Anaconda\\lib\\site-packages\\numpy\\core\\shape_base.py\u001b[0m in \u001b[0;36mhstack\u001b[1;34m(tup)\u001b[0m\n\u001b[0;32m    342\u001b[0m     \u001b[1;31m# As a special case, dimension 0 of 1-dimensional arrays is \"horizontal\"\u001b[0m\u001b[1;33m\u001b[0m\u001b[1;33m\u001b[0m\u001b[1;33m\u001b[0m\u001b[0m\n\u001b[0;32m    343\u001b[0m     \u001b[1;32mif\u001b[0m \u001b[0marrs\u001b[0m \u001b[1;32mand\u001b[0m \u001b[0marrs\u001b[0m\u001b[1;33m[\u001b[0m\u001b[1;36m0\u001b[0m\u001b[1;33m]\u001b[0m\u001b[1;33m.\u001b[0m\u001b[0mndim\u001b[0m \u001b[1;33m==\u001b[0m \u001b[1;36m1\u001b[0m\u001b[1;33m:\u001b[0m\u001b[1;33m\u001b[0m\u001b[1;33m\u001b[0m\u001b[0m\n\u001b[1;32m--> 344\u001b[1;33m         \u001b[1;32mreturn\u001b[0m \u001b[0m_nx\u001b[0m\u001b[1;33m.\u001b[0m\u001b[0mconcatenate\u001b[0m\u001b[1;33m(\u001b[0m\u001b[0marrs\u001b[0m\u001b[1;33m,\u001b[0m \u001b[1;36m0\u001b[0m\u001b[1;33m)\u001b[0m\u001b[1;33m\u001b[0m\u001b[1;33m\u001b[0m\u001b[0m\n\u001b[0m\u001b[0;32m    345\u001b[0m     \u001b[1;32melse\u001b[0m\u001b[1;33m:\u001b[0m\u001b[1;33m\u001b[0m\u001b[1;33m\u001b[0m\u001b[0m\n\u001b[0;32m    346\u001b[0m         \u001b[1;32mreturn\u001b[0m \u001b[0m_nx\u001b[0m\u001b[1;33m.\u001b[0m\u001b[0mconcatenate\u001b[0m\u001b[1;33m(\u001b[0m\u001b[0marrs\u001b[0m\u001b[1;33m,\u001b[0m \u001b[1;36m1\u001b[0m\u001b[1;33m)\u001b[0m\u001b[1;33m\u001b[0m\u001b[1;33m\u001b[0m\u001b[0m\n",
      "\u001b[1;32m<__array_function__ internals>\u001b[0m in \u001b[0;36mconcatenate\u001b[1;34m(*args, **kwargs)\u001b[0m\n",
      "\u001b[1;31mValueError\u001b[0m: all the input arrays must have same number of dimensions, but the array at index 0 has 1 dimension(s) and the array at index 2 has 2 dimension(s)"
     ]
    }
   ],
   "source": [
    "print(np.hstack((arr_1,arr_2,arr_3)))  #横向合并时，形状不匹配"
   ]
  },
  {
   "cell_type": "code",
   "execution_count": 15,
   "id": "caeb0c04",
   "metadata": {
    "ExecuteTime": {
     "end_time": "2021-09-09T08:58:15.612225Z",
     "start_time": "2021-09-09T08:58:15.594235Z"
    }
   },
   "outputs": [
    {
     "name": "stdout",
     "output_type": "stream",
     "text": [
      "[1 2 3 4 5 6 1 2 3 4 5 6]\n"
     ]
    }
   ],
   "source": [
    "print(np.hstack((arr_1,arr_2,arr_4)))"
   ]
  },
  {
   "cell_type": "markdown",
   "id": "6750c291",
   "metadata": {},
   "source": [
    "# 使用concatenate((a1,a2,...),axis)函数沿指定轴连接相同形状的两个或多个数组"
   ]
  },
  {
   "cell_type": "code",
   "execution_count": 25,
   "id": "80b786cb",
   "metadata": {
    "ExecuteTime": {
     "end_time": "2021-09-09T09:19:27.919557Z",
     "start_time": "2021-09-09T09:19:27.900985Z"
    }
   },
   "outputs": [
    {
     "name": "stdout",
     "output_type": "stream",
     "text": [
      "[[1 2 3]\n",
      " [4 5 6]]\n",
      "\n",
      "\n",
      "[[1 2 3 1 2 3]\n",
      " [4 5 6 4 5 6]]\n",
      "\n",
      "\n",
      "[[1 2 3]\n",
      " [4 5 6]\n",
      " [1 2 3]\n",
      " [4 5 6]]\n"
     ]
    }
   ],
   "source": [
    "print(arr_3)\n",
    "print(\"\\n\")\n",
    "print(np.concatenate((arr_3,arr_3),axis=1))\n",
    "print(\"\\n\")\n",
    "print(np.concatenate((arr_3,arr_3),axis=0))"
   ]
  },
  {
   "cell_type": "markdown",
   "id": "ff7a9b31",
   "metadata": {},
   "source": [
    "# 一维数数组不能转置"
   ]
  },
  {
   "cell_type": "code",
   "execution_count": 26,
   "id": "047bf5df",
   "metadata": {
    "ExecuteTime": {
     "end_time": "2021-09-09T09:21:44.469998Z",
     "start_time": "2021-09-09T09:21:44.447013Z"
    }
   },
   "outputs": [
    {
     "data": {
      "text/plain": [
       "array([1, 2, 3])"
      ]
     },
     "execution_count": 26,
     "metadata": {},
     "output_type": "execute_result"
    }
   ],
   "source": [
    "arr_1.T"
   ]
  },
  {
   "cell_type": "markdown",
   "id": "93e9a337",
   "metadata": {},
   "source": [
    "# 使用.newaxis给数组增加维度"
   ]
  },
  {
   "cell_type": "code",
   "execution_count": 28,
   "id": "ce65b046",
   "metadata": {
    "ExecuteTime": {
     "end_time": "2021-09-09T09:24:27.224797Z",
     "start_time": "2021-09-09T09:24:27.211805Z"
    }
   },
   "outputs": [
    {
     "name": "stdout",
     "output_type": "stream",
     "text": [
      "[[1 2 3]]\n",
      "(1, 3)\n"
     ]
    }
   ],
   "source": [
    "arr_10 = arr_1[np.newaxis,:]  #给一维数组arr_1的行方向增加维度\n",
    "print(arr_10)\n",
    "print(arr_10.shape)"
   ]
  },
  {
   "cell_type": "code",
   "execution_count": 29,
   "id": "eb0efd28",
   "metadata": {
    "ExecuteTime": {
     "end_time": "2021-09-09T09:25:43.098072Z",
     "start_time": "2021-09-09T09:25:43.084080Z"
    }
   },
   "outputs": [
    {
     "name": "stdout",
     "output_type": "stream",
     "text": [
      "[[1]\n",
      " [2]\n",
      " [3]]\n"
     ]
    }
   ],
   "source": [
    "print(arr_10.T)"
   ]
  },
  {
   "cell_type": "code",
   "execution_count": 30,
   "id": "26c94475",
   "metadata": {
    "ExecuteTime": {
     "end_time": "2021-09-09T09:29:17.534524Z",
     "start_time": "2021-09-09T09:29:17.523518Z"
    }
   },
   "outputs": [
    {
     "name": "stdout",
     "output_type": "stream",
     "text": [
      "[1 2 3]\n",
      "\n",
      "\n",
      "[[1]\n",
      " [2]\n",
      " [3]]\n"
     ]
    }
   ],
   "source": [
    "print(arr_1)\n",
    "print(\"\\n\")\n",
    "\n",
    "arr_12 = arr_1[:,np.newaxis]  #给一维数组arr_1的列方向增加维度\n",
    "print(arr_12)"
   ]
  },
  {
   "cell_type": "markdown",
   "id": "36f9d781",
   "metadata": {},
   "source": [
    "# 使用atleast_xd()函数 如果arr没到x维，就将arr变为x维,x最大为3,最小为1"
   ]
  },
  {
   "cell_type": "code",
   "execution_count": 42,
   "id": "fe572952",
   "metadata": {
    "ExecuteTime": {
     "end_time": "2021-09-09T09:42:56.305589Z",
     "start_time": "2021-09-09T09:42:56.290597Z"
    }
   },
   "outputs": [
    {
     "name": "stdout",
     "output_type": "stream",
     "text": [
      "[[1 2 3]]\n",
      "\n",
      "\n"
     ]
    }
   ],
   "source": [
    "arr_13 = np.atleast_2d(arr_1)  #如果arr_1没到二维，就将arr_1变为二维的数据\n",
    "print(arr_13)\n",
    "\n",
    "print(\"\\n\")\n",
    "\n",
    "#print(arr_13.T)"
   ]
  },
  {
   "cell_type": "code",
   "execution_count": 43,
   "id": "d3687545",
   "metadata": {
    "ExecuteTime": {
     "end_time": "2021-09-09T09:43:11.630905Z",
     "start_time": "2021-09-09T09:43:11.612901Z"
    }
   },
   "outputs": [
    {
     "name": "stdout",
     "output_type": "stream",
     "text": [
      "[[[1]\n",
      "  [2]\n",
      "  [3]]]\n"
     ]
    }
   ],
   "source": [
    "arr_x = np.atleast_3d(arr_1)\n",
    "print(arr_x)  #注意二维和三维的区别"
   ]
  },
  {
   "cell_type": "code",
   "execution_count": 44,
   "id": "b304a0e5",
   "metadata": {
    "ExecuteTime": {
     "end_time": "2021-09-09T09:43:38.253050Z",
     "start_time": "2021-09-09T09:43:38.237058Z"
    }
   },
   "outputs": [
    {
     "name": "stdout",
     "output_type": "stream",
     "text": [
      "[[[1]\n",
      "  [2]\n",
      "  [3]]]\n"
     ]
    }
   ],
   "source": [
    "print(arr_x.T)  #三维数组也没有转置"
   ]
  },
  {
   "cell_type": "code",
   "execution_count": null,
   "id": "824b0467",
   "metadata": {},
   "outputs": [],
   "source": []
  }
 ],
 "metadata": {
  "kernelspec": {
   "display_name": "Python 3",
   "language": "python",
   "name": "python3"
  },
  "language_info": {
   "codemirror_mode": {
    "name": "ipython",
    "version": 3
   },
   "file_extension": ".py",
   "mimetype": "text/x-python",
   "name": "python",
   "nbconvert_exporter": "python",
   "pygments_lexer": "ipython3",
   "version": "3.8.8"
  },
  "toc": {
   "base_numbering": 1,
   "nav_menu": {},
   "number_sections": true,
   "sideBar": true,
   "skip_h1_title": false,
   "title_cell": "Table of Contents",
   "title_sidebar": "Contents",
   "toc_cell": false,
   "toc_position": {},
   "toc_section_display": true,
   "toc_window_display": false
  },
  "varInspector": {
   "cols": {
    "lenName": 16,
    "lenType": 16,
    "lenVar": 40
   },
   "kernels_config": {
    "python": {
     "delete_cmd_postfix": "",
     "delete_cmd_prefix": "del ",
     "library": "var_list.py",
     "varRefreshCmd": "print(var_dic_list())"
    },
    "r": {
     "delete_cmd_postfix": ") ",
     "delete_cmd_prefix": "rm(",
     "library": "var_list.r",
     "varRefreshCmd": "cat(var_dic_list()) "
    }
   },
   "types_to_exclude": [
    "module",
    "function",
    "builtin_function_or_method",
    "instance",
    "_Feature"
   ],
   "window_display": false
  }
 },
 "nbformat": 4,
 "nbformat_minor": 5
}
